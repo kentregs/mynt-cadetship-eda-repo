{
 "cells": [
  {
   "cell_type": "markdown",
   "metadata": {},
   "source": [
    "# Problem Set 1 CS129.18\n",
    "\n",
    "The following problem set will revolve around hourly Philippine weather data observations from 1978 to 2018 sourced from NOAA (National Oceanic and Atmospheric Administration). \n",
    "\n",
    "The dataset `PH_Weather_v1.csv` has **11** columns. The columns are described as follows.\n",
    "\n",
    "* **datetime** maps to a YYYYMMDDSSSS string datetime format.\n",
    "* **wind_direction** represents the recorded compass direction of the wind. \n",
    "* **wind_speed** is the wind speed recorded in MPH.\n",
    "* **gust_speed** is the gust speed recorded in MPH. NAN if no recording.\n",
    "* **sea_level_pressure** is sea level pressure in millibars estimated to the nearest tenth.\n",
    "* **temperature** is the recorded temperature in celsius.\n",
    "* **altitude** is the station altimeter recording in inches. NAN if no recording.\n",
    "* **precipitation** is the station hourly precipitation report in inches. NAN if no recording.\n",
    "* **clouds** is the station observed cloud report.\n",
    "    * CLR-CLEAR \n",
    "    * SCT-SCATTERED\n",
    "    * BKN-BROKEN\n",
    "    * OVC-OVERCAST, \n",
    "    * OBS-OBSCURED\n",
    "    * POB-PARTIAL OBSCURATION \n",
    "* **visibility** is the station observed visibility in miles\n",
    "* **humidity** is the station observed relative humidity"
   ]
  },
  {
   "cell_type": "markdown",
   "metadata": {},
   "source": [
    "## Requirements\n",
    "\n",
    "\n",
    ">Atmospheric Science is a complex system that works with factors that interact with each other. We might be able use these variables to estimate the value of one of the key indicators: Temperature.\n",
    "\n",
    "Using the lessons on Linear Regression I and II, and the other resource notebooks, show the following in this Jupyter Notebook.\n",
    "\n",
    "Write your answers down as Markdown cells or comments in the code.\n",
    "\n",
    "1. What is the dimensionality or shape of the data? ( 1pt )\n",
    "\n",
    "2. What is mean temperature for the year 2017? ( 3pts )\n",
    "\n",
    "3. Solve for the beta coefficients for the columns that you can use in your dataset to predict temperature. ( 4pts )\n",
    "\n",
    "4. Show the relationship between the variable with the highest beta coefficient and temperature (Use a plot). ( 5pts )\n",
    "\n",
    "5. Solve for the Mean Squared Error of your predicted temperature against the actual temperature. ( 2pts )\n",
    "\n",
    "6. Solve for the R^2 score of the linear model used to predict temperature. ( 2pts )\n",
    "\n",
    "7. Identify if the model is a good model and why. ( 3pts )\n",
    "\n",
    "\n",
    "\n",
    "-----\n",
    "\n",
    "\n",
    "Bonus 1 : What is your name?\n",
    "\n",
    "If **you're the only one in the class** that answers Bonus 1, **only you** get **5 points**. \n",
    "\n",
    "If **everyone in the class** answers Bonus 1, **you all** get **0 points**.\n",
    "\n",
    "If **no one in the class** answers Bonus 1, **everyone** gets **2 points**.\n",
    "\n",
    "*Don't worry, your answer here will not be disclosed to the class*\n",
    "\n",
    "----\n",
    "\n",
    "**Submit this file on Moodle on the submission link I will provide. This is due September 13 12nn.**"
   ]
  },
  {
   "cell_type": "code",
   "execution_count": 2,
   "metadata": {},
   "outputs": [],
   "source": [
    "%matplotlib inline\n",
    "\n",
    "import matplotlib.pylab as plt\n",
    "import numpy as np\n",
    "import pandas as pd\n",
    "import seaborn as sns"
   ]
  },
  {
   "cell_type": "code",
   "execution_count": 3,
   "metadata": {},
   "outputs": [],
   "source": [
    "df = pd.read_csv(\"data/PH_Weather_v1.csv\")"
   ]
  },
  {
   "cell_type": "code",
   "execution_count": 4,
   "metadata": {},
   "outputs": [
    {
     "data": {
      "text/html": [
       "<div>\n",
       "<style scoped>\n",
       "    .dataframe tbody tr th:only-of-type {\n",
       "        vertical-align: middle;\n",
       "    }\n",
       "\n",
       "    .dataframe tbody tr th {\n",
       "        vertical-align: top;\n",
       "    }\n",
       "\n",
       "    .dataframe thead th {\n",
       "        text-align: right;\n",
       "    }\n",
       "</style>\n",
       "<table border=\"1\" class=\"dataframe\">\n",
       "  <thead>\n",
       "    <tr style=\"text-align: right;\">\n",
       "      <th></th>\n",
       "      <th>datetime</th>\n",
       "      <th>wind_direction</th>\n",
       "      <th>wind_speed</th>\n",
       "      <th>gust_speed</th>\n",
       "      <th>sea_level_pressure</th>\n",
       "      <th>temperature</th>\n",
       "      <th>altitude</th>\n",
       "      <th>precipitation</th>\n",
       "      <th>clouds</th>\n",
       "      <th>visibility</th>\n",
       "      <th>humidity</th>\n",
       "    </tr>\n",
       "  </thead>\n",
       "  <tbody>\n",
       "    <tr>\n",
       "      <th>0</th>\n",
       "      <td>197809140300</td>\n",
       "      <td>160</td>\n",
       "      <td>2</td>\n",
       "      <td>NaN</td>\n",
       "      <td>1007.7</td>\n",
       "      <td>30</td>\n",
       "      <td>NaN</td>\n",
       "      <td>NaN</td>\n",
       "      <td>BKN</td>\n",
       "      <td>15.6</td>\n",
       "      <td>0.75</td>\n",
       "    </tr>\n",
       "    <tr>\n",
       "      <th>1</th>\n",
       "      <td>197810021500</td>\n",
       "      <td>0</td>\n",
       "      <td>0</td>\n",
       "      <td>NaN</td>\n",
       "      <td>1011.3</td>\n",
       "      <td>26</td>\n",
       "      <td>NaN</td>\n",
       "      <td>NaN</td>\n",
       "      <td>OVC</td>\n",
       "      <td>6.2</td>\n",
       "      <td>0.94</td>\n",
       "    </tr>\n",
       "    <tr>\n",
       "      <th>2</th>\n",
       "      <td>197810252100</td>\n",
       "      <td>360</td>\n",
       "      <td>9</td>\n",
       "      <td>NaN</td>\n",
       "      <td>1004.1</td>\n",
       "      <td>26</td>\n",
       "      <td>NaN</td>\n",
       "      <td>NaN</td>\n",
       "      <td>BKN</td>\n",
       "      <td>6.2</td>\n",
       "      <td>0.80</td>\n",
       "    </tr>\n",
       "    <tr>\n",
       "      <th>3</th>\n",
       "      <td>197810260000</td>\n",
       "      <td>360</td>\n",
       "      <td>21</td>\n",
       "      <td>NaN</td>\n",
       "      <td>1006.3</td>\n",
       "      <td>26</td>\n",
       "      <td>NaN</td>\n",
       "      <td>NaN</td>\n",
       "      <td>OVC</td>\n",
       "      <td>6.2</td>\n",
       "      <td>0.80</td>\n",
       "    </tr>\n",
       "    <tr>\n",
       "      <th>4</th>\n",
       "      <td>197811131500</td>\n",
       "      <td>0</td>\n",
       "      <td>0</td>\n",
       "      <td>NaN</td>\n",
       "      <td>1010.1</td>\n",
       "      <td>26</td>\n",
       "      <td>NaN</td>\n",
       "      <td>NaN</td>\n",
       "      <td>BKN</td>\n",
       "      <td>11.2</td>\n",
       "      <td>0.88</td>\n",
       "    </tr>\n",
       "  </tbody>\n",
       "</table>\n",
       "</div>"
      ],
      "text/plain": [
       "       datetime  wind_direction  wind_speed  gust_speed  sea_level_pressure  \\\n",
       "0  197809140300             160           2         NaN              1007.7   \n",
       "1  197810021500               0           0         NaN              1011.3   \n",
       "2  197810252100             360           9         NaN              1004.1   \n",
       "3  197810260000             360          21         NaN              1006.3   \n",
       "4  197811131500               0           0         NaN              1010.1   \n",
       "\n",
       "   temperature  altitude  precipitation clouds  visibility  humidity  \n",
       "0           30       NaN            NaN    BKN        15.6      0.75  \n",
       "1           26       NaN            NaN    OVC         6.2      0.94  \n",
       "2           26       NaN            NaN    BKN         6.2      0.80  \n",
       "3           26       NaN            NaN    OVC         6.2      0.80  \n",
       "4           26       NaN            NaN    BKN        11.2      0.88  "
      ]
     },
     "execution_count": 4,
     "metadata": {},
     "output_type": "execute_result"
    }
   ],
   "source": [
    "df.head()"
   ]
  },
  {
   "cell_type": "code",
   "execution_count": 5,
   "metadata": {},
   "outputs": [],
   "source": [
    "# df.dropna([\"a\", \"b\", \"c\"],axis=1)"
   ]
  },
  {
   "cell_type": "markdown",
   "metadata": {},
   "source": [
    "## 1. What is the dimensionality or shape of the data? ( 1pt )\n",
    "---"
   ]
  },
  {
   "cell_type": "code",
   "execution_count": 6,
   "metadata": {},
   "outputs": [
    {
     "data": {
      "text/plain": [
       "(90565, 11)"
      ]
     },
     "execution_count": 6,
     "metadata": {},
     "output_type": "execute_result"
    }
   ],
   "source": [
    "df.shape"
   ]
  },
  {
   "cell_type": "markdown",
   "metadata": {},
   "source": [
    "## 2. What is mean temperature for the year 2017? ( 3pts )\n",
    "---"
   ]
  },
  {
   "cell_type": "code",
   "execution_count": 7,
   "metadata": {},
   "outputs": [
    {
     "data": {
      "text/plain": [
       "0        197809140300\n",
       "1        197810021500\n",
       "2        197810252100\n",
       "3        197810260000\n",
       "4        197811131500\n",
       "             ...     \n",
       "90560    201809010900\n",
       "90561    201809011200\n",
       "90562    201809011500\n",
       "90563    201809011800\n",
       "90564    201809012100\n",
       "Name: datetime, Length: 90565, dtype: int64"
      ]
     },
     "execution_count": 7,
     "metadata": {},
     "output_type": "execute_result"
    }
   ],
   "source": [
    "df['datetime']"
   ]
  },
  {
   "cell_type": "code",
   "execution_count": 8,
   "metadata": {},
   "outputs": [
    {
     "name": "stdout",
     "output_type": "stream",
     "text": [
      "0       1978-09-14 03:00:00\n",
      "1       1978-10-02 15:00:00\n",
      "2       1978-10-25 21:00:00\n",
      "3       1978-10-26 00:00:00\n",
      "4       1978-11-13 15:00:00\n",
      "                ...        \n",
      "90560   2018-09-01 09:00:00\n",
      "90561   2018-09-01 12:00:00\n",
      "90562   2018-09-01 15:00:00\n",
      "90563   2018-09-01 18:00:00\n",
      "90564   2018-09-01 21:00:00\n",
      "Name: conv_datetime, Length: 90565, dtype: datetime64[ns]\n"
     ]
    }
   ],
   "source": [
    "# convert the dtypes of all entries in the datetime column \n",
    "# from 'int64' to 'datetime64[ns]'\n",
    "df['conv_datetime'] = pd.to_datetime(df['datetime'].astype(str), errors='coerce')\n",
    "print(df['conv_datetime'])"
   ]
  },
  {
   "cell_type": "code",
   "execution_count": 9,
   "metadata": {},
   "outputs": [
    {
     "data": {
      "text/plain": [
       "True"
      ]
     },
     "execution_count": 9,
     "metadata": {},
     "output_type": "execute_result"
    }
   ],
   "source": [
    "# check if temperature data has any NaN entries\n",
    "df['altitude'].isnull().values.any()"
   ]
  },
  {
   "cell_type": "code",
   "execution_count": 10,
   "metadata": {},
   "outputs": [
    {
     "name": "stdout",
     "output_type": "stream",
     "text": [
      "85744   2017-01-01 03:00:00\n",
      "85745   2017-01-01 06:00:00\n",
      "85746   2017-01-01 09:00:00\n",
      "85747   2017-01-01 12:00:00\n",
      "85748   2017-01-01 15:00:00\n",
      "                ...        \n",
      "88634   2017-12-31 09:00:00\n",
      "88635   2017-12-31 12:00:00\n",
      "88636   2017-12-31 15:00:00\n",
      "88637   2017-12-31 18:00:00\n",
      "88638   2017-12-31 21:00:00\n",
      "Name: conv_datetime, Length: 2895, dtype: datetime64[ns]\n",
      "\n",
      "mean temperature for the year 2017 = 27.9344\n"
     ]
    }
   ],
   "source": [
    "# access all indexes within 2017\n",
    "mask = (df['conv_datetime'] > '2017-01-01 00:00:00') & (df['conv_datetime'] < '2018-01-01 00:00:00')\n",
    "mean = df['temperature'].loc[mask].mean()\n",
    "\n",
    "print(df['conv_datetime'].loc[mask])\n",
    "print(f'\\nmean temperature for the year 2017 = {mean:.4f}')"
   ]
  },
  {
   "cell_type": "markdown",
   "metadata": {},
   "source": [
    "## 3. Solve for the beta coefficients for the columns that you can use in your dataset to predict temperature. ( 4pts )"
   ]
  },
  {
   "cell_type": "code",
   "execution_count": 11,
   "metadata": {},
   "outputs": [
    {
     "name": "stdout",
     "output_type": "stream",
     "text": [
      "> Non NULL precipitation values: \n",
      "40710    0.04\n",
      "41231    0.04\n",
      "41317    1.14\n",
      "41366    0.87\n",
      "41564    0.04\n",
      "41609    0.04\n",
      "41611    0.35\n",
      "41684    0.04\n",
      "41685    0.28\n",
      "41687    0.08\n",
      "41688    0.28\n",
      "41691    0.24\n",
      "76072    0.04\n",
      "Name: precipitation, dtype: float64\n",
      "\n",
      "> Non NULL gust speed values: \n",
      "1324    46.0\n",
      "Name: gust_speed, dtype: float64\n",
      "\n",
      "> Non NULL gust speed values: \n",
      "Series([], Name: gust_speed, dtype: float64)\n"
     ]
    }
   ],
   "source": [
    "# check if precipitation data has any NaN entries\n",
    "mask = df['precipitation'].notnull()\n",
    "nonNullPrecipVals = df['precipitation'].loc[mask]\n",
    "print(f'> Non NULL precipitation values: \\n{nonNullPrecipVals}')\n",
    "\n",
    "# check if gust_speed data has any NaN entries\n",
    "mask = df['gust_speed'].notnull()\n",
    "nonNullGustSpdVals = df['gust_speed'].loc[mask]\n",
    "print(f'\\n> Non NULL gust speed values: \\n{nonNullGustSpdVals}')\n",
    "\n",
    "# check if altitude data has any NaN entries\n",
    "mask = df['altitude'].notnull()\n",
    "nonNullGustSpdVals = df['gust_speed'].loc[mask]\n",
    "print(f'\\n> Non NULL gust speed values: \\n{nonNullGustSpdVals}')"
   ]
  },
  {
   "cell_type": "code",
   "execution_count": 12,
   "metadata": {},
   "outputs": [
    {
     "data": {
      "text/html": [
       "<div>\n",
       "<style scoped>\n",
       "    .dataframe tbody tr th:only-of-type {\n",
       "        vertical-align: middle;\n",
       "    }\n",
       "\n",
       "    .dataframe tbody tr th {\n",
       "        vertical-align: top;\n",
       "    }\n",
       "\n",
       "    .dataframe thead th {\n",
       "        text-align: right;\n",
       "    }\n",
       "</style>\n",
       "<table border=\"1\" class=\"dataframe\">\n",
       "  <thead>\n",
       "    <tr style=\"text-align: right;\">\n",
       "      <th></th>\n",
       "      <th>datetime</th>\n",
       "      <th>wind_direction</th>\n",
       "      <th>wind_speed</th>\n",
       "      <th>sea_level_pressure</th>\n",
       "      <th>visibility</th>\n",
       "      <th>humidity</th>\n",
       "    </tr>\n",
       "  </thead>\n",
       "  <tbody>\n",
       "    <tr>\n",
       "      <th>0</th>\n",
       "      <td>197809140300</td>\n",
       "      <td>160</td>\n",
       "      <td>2</td>\n",
       "      <td>1007.7</td>\n",
       "      <td>15.6</td>\n",
       "      <td>0.75</td>\n",
       "    </tr>\n",
       "    <tr>\n",
       "      <th>1</th>\n",
       "      <td>197810021500</td>\n",
       "      <td>0</td>\n",
       "      <td>0</td>\n",
       "      <td>1011.3</td>\n",
       "      <td>6.2</td>\n",
       "      <td>0.94</td>\n",
       "    </tr>\n",
       "    <tr>\n",
       "      <th>2</th>\n",
       "      <td>197810252100</td>\n",
       "      <td>360</td>\n",
       "      <td>9</td>\n",
       "      <td>1004.1</td>\n",
       "      <td>6.2</td>\n",
       "      <td>0.80</td>\n",
       "    </tr>\n",
       "    <tr>\n",
       "      <th>3</th>\n",
       "      <td>197810260000</td>\n",
       "      <td>360</td>\n",
       "      <td>21</td>\n",
       "      <td>1006.3</td>\n",
       "      <td>6.2</td>\n",
       "      <td>0.80</td>\n",
       "    </tr>\n",
       "    <tr>\n",
       "      <th>4</th>\n",
       "      <td>197811131500</td>\n",
       "      <td>0</td>\n",
       "      <td>0</td>\n",
       "      <td>1010.1</td>\n",
       "      <td>11.2</td>\n",
       "      <td>0.88</td>\n",
       "    </tr>\n",
       "  </tbody>\n",
       "</table>\n",
       "</div>"
      ],
      "text/plain": [
       "       datetime  wind_direction  wind_speed  sea_level_pressure  visibility  \\\n",
       "0  197809140300             160           2              1007.7        15.6   \n",
       "1  197810021500               0           0              1011.3         6.2   \n",
       "2  197810252100             360           9              1004.1         6.2   \n",
       "3  197810260000             360          21              1006.3         6.2   \n",
       "4  197811131500               0           0              1010.1        11.2   \n",
       "\n",
       "   humidity  \n",
       "0      0.75  \n",
       "1      0.94  \n",
       "2      0.80  \n",
       "3      0.80  \n",
       "4      0.88  "
      ]
     },
     "execution_count": 12,
     "metadata": {},
     "output_type": "execute_result"
    }
   ],
   "source": [
    "from sklearn.linear_model import LinearRegression\n",
    "\n",
    "# - 'clouds' column will be dropped since the 'LinearRegression' method cannot \n",
    "#    convert string dtypes to float.\n",
    "# - 'gust_speed', 'altitude', and 'precipitation' columns will also be dropped since\n",
    "#   the aforementioned columns have NaN entries.\n",
    "# - 'temperature' and 'conv_temperatures' will likewise be dropped since the\n",
    "#   objective is to predict temperature values.\n",
    "\n",
    "X = df.drop([\n",
    "    'temperature', \n",
    "    'conv_datetime', \n",
    "    'gust_speed', \n",
    "    'precipitation',\n",
    "    'altitude',\n",
    "    'clouds'\n",
    "    ], axis=1)\n",
    "X.head()"
   ]
  },
  {
   "cell_type": "code",
   "execution_count": 13,
   "metadata": {},
   "outputs": [
    {
     "data": {
      "text/html": [
       "<div>\n",
       "<style scoped>\n",
       "    .dataframe tbody tr th:only-of-type {\n",
       "        vertical-align: middle;\n",
       "    }\n",
       "\n",
       "    .dataframe tbody tr th {\n",
       "        vertical-align: top;\n",
       "    }\n",
       "\n",
       "    .dataframe thead th {\n",
       "        text-align: right;\n",
       "    }\n",
       "</style>\n",
       "<table border=\"1\" class=\"dataframe\">\n",
       "  <thead>\n",
       "    <tr style=\"text-align: right;\">\n",
       "      <th></th>\n",
       "      <th>datetime</th>\n",
       "      <th>wind_direction</th>\n",
       "      <th>wind_speed</th>\n",
       "      <th>gust_speed</th>\n",
       "      <th>sea_level_pressure</th>\n",
       "      <th>temperature</th>\n",
       "      <th>altitude</th>\n",
       "      <th>precipitation</th>\n",
       "      <th>clouds</th>\n",
       "      <th>visibility</th>\n",
       "      <th>humidity</th>\n",
       "      <th>conv_datetime</th>\n",
       "    </tr>\n",
       "  </thead>\n",
       "  <tbody>\n",
       "    <tr>\n",
       "      <th>0</th>\n",
       "      <td>197809140300</td>\n",
       "      <td>160</td>\n",
       "      <td>2</td>\n",
       "      <td>NaN</td>\n",
       "      <td>1007.7</td>\n",
       "      <td>30</td>\n",
       "      <td>NaN</td>\n",
       "      <td>NaN</td>\n",
       "      <td>BKN</td>\n",
       "      <td>15.6</td>\n",
       "      <td>0.75</td>\n",
       "      <td>1978-09-14 03:00:00</td>\n",
       "    </tr>\n",
       "    <tr>\n",
       "      <th>1</th>\n",
       "      <td>197810021500</td>\n",
       "      <td>0</td>\n",
       "      <td>0</td>\n",
       "      <td>NaN</td>\n",
       "      <td>1011.3</td>\n",
       "      <td>26</td>\n",
       "      <td>NaN</td>\n",
       "      <td>NaN</td>\n",
       "      <td>OVC</td>\n",
       "      <td>6.2</td>\n",
       "      <td>0.94</td>\n",
       "      <td>1978-10-02 15:00:00</td>\n",
       "    </tr>\n",
       "    <tr>\n",
       "      <th>2</th>\n",
       "      <td>197810252100</td>\n",
       "      <td>360</td>\n",
       "      <td>9</td>\n",
       "      <td>NaN</td>\n",
       "      <td>1004.1</td>\n",
       "      <td>26</td>\n",
       "      <td>NaN</td>\n",
       "      <td>NaN</td>\n",
       "      <td>BKN</td>\n",
       "      <td>6.2</td>\n",
       "      <td>0.80</td>\n",
       "      <td>1978-10-25 21:00:00</td>\n",
       "    </tr>\n",
       "    <tr>\n",
       "      <th>3</th>\n",
       "      <td>197810260000</td>\n",
       "      <td>360</td>\n",
       "      <td>21</td>\n",
       "      <td>NaN</td>\n",
       "      <td>1006.3</td>\n",
       "      <td>26</td>\n",
       "      <td>NaN</td>\n",
       "      <td>NaN</td>\n",
       "      <td>OVC</td>\n",
       "      <td>6.2</td>\n",
       "      <td>0.80</td>\n",
       "      <td>1978-10-26 00:00:00</td>\n",
       "    </tr>\n",
       "    <tr>\n",
       "      <th>4</th>\n",
       "      <td>197811131500</td>\n",
       "      <td>0</td>\n",
       "      <td>0</td>\n",
       "      <td>NaN</td>\n",
       "      <td>1010.1</td>\n",
       "      <td>26</td>\n",
       "      <td>NaN</td>\n",
       "      <td>NaN</td>\n",
       "      <td>BKN</td>\n",
       "      <td>11.2</td>\n",
       "      <td>0.88</td>\n",
       "      <td>1978-11-13 15:00:00</td>\n",
       "    </tr>\n",
       "  </tbody>\n",
       "</table>\n",
       "</div>"
      ],
      "text/plain": [
       "       datetime  wind_direction  wind_speed  gust_speed  sea_level_pressure  \\\n",
       "0  197809140300             160           2         NaN              1007.7   \n",
       "1  197810021500               0           0         NaN              1011.3   \n",
       "2  197810252100             360           9         NaN              1004.1   \n",
       "3  197810260000             360          21         NaN              1006.3   \n",
       "4  197811131500               0           0         NaN              1010.1   \n",
       "\n",
       "   temperature  altitude  precipitation clouds  visibility  humidity  \\\n",
       "0           30       NaN            NaN    BKN        15.6      0.75   \n",
       "1           26       NaN            NaN    OVC         6.2      0.94   \n",
       "2           26       NaN            NaN    BKN         6.2      0.80   \n",
       "3           26       NaN            NaN    OVC         6.2      0.80   \n",
       "4           26       NaN            NaN    BKN        11.2      0.88   \n",
       "\n",
       "        conv_datetime  \n",
       "0 1978-09-14 03:00:00  \n",
       "1 1978-10-02 15:00:00  \n",
       "2 1978-10-25 21:00:00  \n",
       "3 1978-10-26 00:00:00  \n",
       "4 1978-11-13 15:00:00  "
      ]
     },
     "execution_count": 13,
     "metadata": {},
     "output_type": "execute_result"
    }
   ],
   "source": [
    "df.head()"
   ]
  },
  {
   "cell_type": "code",
   "execution_count": 14,
   "metadata": {},
   "outputs": [
    {
     "data": {
      "text/plain": [
       "LinearRegression()"
      ]
     },
     "execution_count": 14,
     "metadata": {},
     "output_type": "execute_result"
    }
   ],
   "source": [
    "# determine the set of beta coefficients that can be multiplied to each \n",
    "# row to acquire the temperature value \n",
    "\n",
    "linear_model = LinearRegression()\n",
    "linear_model.fit(X, df[\"temperature\"])"
   ]
  },
  {
   "cell_type": "code",
   "execution_count": 15,
   "metadata": {},
   "outputs": [
    {
     "data": {
      "text/plain": [
       "array([ 8.74373640e-11,  1.64271890e-03,  8.70739119e-02, -1.53082516e-04,\n",
       "        9.79302229e-02, -1.09202551e+01])"
      ]
     },
     "execution_count": 15,
     "metadata": {},
     "output_type": "execute_result"
    }
   ],
   "source": [
    "linear_model.coef_"
   ]
  },
  {
   "cell_type": "code",
   "execution_count": 16,
   "metadata": {},
   "outputs": [
    {
     "name": "stdout",
     "output_type": "stream",
     "text": [
      "\n",
      "Number of estimated coefficient values: 6\n",
      "\n",
      "Coefficient values: [ 8.74373640e-11  1.64271890e-03  8.70739119e-02 -1.53082516e-04\n",
      "  9.79302229e-02 -1.09202551e+01]\n",
      "\n"
     ]
    },
    {
     "data": {
      "text/html": [
       "<div>\n",
       "<style scoped>\n",
       "    .dataframe tbody tr th:only-of-type {\n",
       "        vertical-align: middle;\n",
       "    }\n",
       "\n",
       "    .dataframe tbody tr th {\n",
       "        vertical-align: top;\n",
       "    }\n",
       "\n",
       "    .dataframe thead th {\n",
       "        text-align: right;\n",
       "    }\n",
       "</style>\n",
       "<table border=\"1\" class=\"dataframe\">\n",
       "  <thead>\n",
       "    <tr style=\"text-align: right;\">\n",
       "      <th></th>\n",
       "      <th>0</th>\n",
       "      <th>1</th>\n",
       "    </tr>\n",
       "  </thead>\n",
       "  <tbody>\n",
       "    <tr>\n",
       "      <th>5</th>\n",
       "      <td>humidity</td>\n",
       "      <td>-1.092026e+01</td>\n",
       "    </tr>\n",
       "    <tr>\n",
       "      <th>3</th>\n",
       "      <td>sea_level_pressure</td>\n",
       "      <td>-1.530825e-04</td>\n",
       "    </tr>\n",
       "    <tr>\n",
       "      <th>0</th>\n",
       "      <td>datetime</td>\n",
       "      <td>8.743736e-11</td>\n",
       "    </tr>\n",
       "    <tr>\n",
       "      <th>1</th>\n",
       "      <td>wind_direction</td>\n",
       "      <td>1.642719e-03</td>\n",
       "    </tr>\n",
       "    <tr>\n",
       "      <th>2</th>\n",
       "      <td>wind_speed</td>\n",
       "      <td>8.707391e-02</td>\n",
       "    </tr>\n",
       "    <tr>\n",
       "      <th>4</th>\n",
       "      <td>visibility</td>\n",
       "      <td>9.793022e-02</td>\n",
       "    </tr>\n",
       "  </tbody>\n",
       "</table>\n",
       "</div>"
      ],
      "text/plain": [
       "                    0             1\n",
       "5            humidity -1.092026e+01\n",
       "3  sea_level_pressure -1.530825e-04\n",
       "0            datetime  8.743736e-11\n",
       "1      wind_direction  1.642719e-03\n",
       "2          wind_speed  8.707391e-02\n",
       "4          visibility  9.793022e-02"
      ]
     },
     "execution_count": 16,
     "metadata": {},
     "output_type": "execute_result"
    }
   ],
   "source": [
    "# display how many estimated coefficient values were generated and \n",
    "# visualize them against the Dataset columns\n",
    "\n",
    "print(f'\\nNumber of estimated coefficient values: {len(linear_model.coef_)}\\n')\n",
    "print(f\"Coefficient values: {linear_model.coef_}\\n\")\n",
    "\n",
    "coeffs = pd.DataFrame(list(zip(X.columns, linear_model.coef_)))\n",
    "coeffs.sort_values(by=[1])"
   ]
  },
  {
   "cell_type": "markdown",
   "metadata": {},
   "source": [
    "## 4. Show the relationship between the variable with the highest beta coefficient and temperature (Use a plot). ( 5pts )\n",
    "---"
   ]
  },
  {
   "cell_type": "code",
   "execution_count": 17,
   "metadata": {},
   "outputs": [
    {
     "data": {
      "text/plain": [
       "Text(0.5, 1.0, 'Relationship between humidity and Temperature')"
      ]
     },
     "execution_count": 17,
     "metadata": {},
     "output_type": "execute_result"
    },
    {
     "data": {
      "image/png": "[encoded data removed]",
      "text/plain": [
       "<Figure size 720x576 with 1 Axes>"
      ]
     },
     "metadata": {},
     "output_type": "display_data"
    }
   ],
   "source": [
    "plt.style.use('fivethirtyeight')\n",
    "plt.figure(figsize=(10,8))\n",
    "\n",
    "plt.plot([-1, 1], [40, 25], '--go')\n",
    "plt.scatter(df[\"humidity\"], df[\"temperature\"])\n",
    "plt.xlabel(\"Mean humidity value per temperature reading\")\n",
    "plt.ylabel(\"Temperature\")\n",
    "plt.title(\"Relationship between humidity and Temperature\")"
   ]
  },
  {
   "cell_type": "code",
   "execution_count": 18,
   "metadata": {},
   "outputs": [
    {
     "data": {
      "text/html": [
       "<div>\n",
       "<style scoped>\n",
       "    .dataframe tbody tr th:only-of-type {\n",
       "        vertical-align: middle;\n",
       "    }\n",
       "\n",
       "    .dataframe tbody tr th {\n",
       "        vertical-align: top;\n",
       "    }\n",
       "\n",
       "    .dataframe thead th {\n",
       "        text-align: right;\n",
       "    }\n",
       "</style>\n",
       "<table border=\"1\" class=\"dataframe\">\n",
       "  <thead>\n",
       "    <tr style=\"text-align: right;\">\n",
       "      <th></th>\n",
       "      <th>temperature</th>\n",
       "      <th>PRED</th>\n",
       "    </tr>\n",
       "  </thead>\n",
       "  <tbody>\n",
       "    <tr>\n",
       "      <th>0</th>\n",
       "      <td>30</td>\n",
       "      <td>28.346302</td>\n",
       "    </tr>\n",
       "    <tr>\n",
       "      <th>1</th>\n",
       "      <td>26</td>\n",
       "      <td>24.913452</td>\n",
       "    </tr>\n",
       "    <tr>\n",
       "      <th>2</th>\n",
       "      <td>26</td>\n",
       "      <td>27.818454</td>\n",
       "    </tr>\n",
       "    <tr>\n",
       "      <th>3</th>\n",
       "      <td>26</td>\n",
       "      <td>28.863005</td>\n",
       "    </tr>\n",
       "    <tr>\n",
       "      <th>4</th>\n",
       "      <td>26</td>\n",
       "      <td>26.058599</td>\n",
       "    </tr>\n",
       "  </tbody>\n",
       "</table>\n",
       "</div>"
      ],
      "text/plain": [
       "   temperature       PRED\n",
       "0           30  28.346302\n",
       "1           26  24.913452\n",
       "2           26  27.818454\n",
       "3           26  28.863005\n",
       "4           26  26.058599"
      ]
     },
     "execution_count": 18,
     "metadata": {},
     "output_type": "execute_result"
    }
   ],
   "source": [
    "predictions = linear_model.predict(X)\n",
    "df['PRED'] = predictions\n",
    "\n",
    "df[['temperature', 'PRED']].head()"
   ]
  },
  {
   "cell_type": "code",
   "execution_count": 25,
   "metadata": {},
   "outputs": [
    {
     "data": {
      "text/plain": [
       "Text(0.5, 1.0, 'Actual Temperature Values vs Predicted Temperature Values')"
      ]
     },
     "execution_count": 25,
     "metadata": {},
     "output_type": "execute_result"
    },
    {
     "data": {
      "image/png": "[encoded data removed]",
      "text/plain": [
       "<Figure size 720x576 with 1 Axes>"
      ]
     },
     "metadata": {},
     "output_type": "display_data"
    }
   ],
   "source": [
    "plt.figure(figsize=(10,8))\n",
    "\n",
    "plt.scatter(df[\"temperature\"], df['PRED'])\n",
    "plt.plot([0, 50], [15, 40], '--go')\n",
    "plt.xlabel(\"Actual Temperature Values\")\n",
    "plt.ylabel(\"Predicted Temperature Values\")\n",
    "plt.title(\"Actual Temperature Values vs Predicted Temperature Values\")"
   ]
  },
  {
   "cell_type": "markdown",
   "metadata": {},
   "source": [
    "## 5. Solve for the Mean Squared Error of your predicted temperature against the actual temperature. ( 2pts )\n",
    "---\n",
    "## 6. Solve for the R^2 score of the linear model used to predict temperature. ( 2pts )"
   ]
  },
  {
   "cell_type": "code",
   "execution_count": 20,
   "metadata": {},
   "outputs": [
    {
     "name": "stdout",
     "output_type": "stream",
     "text": [
      "\n",
      "MSE = 2.760897303790201\n",
      "Model accuracy (R^2 score) = 47.412273401226955\n",
      "\n"
     ]
    }
   ],
   "source": [
    "mean_squared_error = np.mean((df[\"temperature\"] - linear_model.predict(X))**2)\n",
    "score = linear_model.score(X, df[\"temperature\"])\n",
    "\n",
    "print(f'\\nMSE = {mean_squared_error}')\n",
    "print(f'Model accuracy (R^2 score) = {score * 100}\\n')"
   ]
  },
  {
   "cell_type": "markdown",
   "metadata": {},
   "source": [
    "## 7. Identify if the model is a good model and why. ( 3pts )\n",
    "---"
   ]
  },
  {
   "cell_type": "markdown",
   "metadata": {},
   "source": [
    "Upon seeing the relatively low R^2 score, my initial reaction was to revisit the \"Actual Temperature Values vs Predicted Temperature Values\" scatter plot and estimate how many outliers there were. Upon inspection, I noticed that there was a very odd temperature reading that was below 0 degrees Celsuis. \n",
    "\n",
    "I decided to query the dataset and inspect the row which had a negative temperature reading. Upon closer inspection, I discovered that the abnormal temperature reading was logged way back in 1979."
   ]
  },
  {
   "cell_type": "code",
   "execution_count": 21,
   "metadata": {},
   "outputs": [
    {
     "data": {
      "text/html": [
       "<div>\n",
       "<style scoped>\n",
       "    .dataframe tbody tr th:only-of-type {\n",
       "        vertical-align: middle;\n",
       "    }\n",
       "\n",
       "    .dataframe tbody tr th {\n",
       "        vertical-align: top;\n",
       "    }\n",
       "\n",
       "    .dataframe thead th {\n",
       "        text-align: right;\n",
       "    }\n",
       "</style>\n",
       "<table border=\"1\" class=\"dataframe\">\n",
       "  <thead>\n",
       "    <tr style=\"text-align: right;\">\n",
       "      <th></th>\n",
       "      <th>conv_datetime</th>\n",
       "      <th>temperature</th>\n",
       "      <th>PRED</th>\n",
       "    </tr>\n",
       "  </thead>\n",
       "  <tbody>\n",
       "    <tr>\n",
       "      <th>482</th>\n",
       "      <td>1979-10-17 09:00:00</td>\n",
       "      <td>-3</td>\n",
       "      <td>29.901518</td>\n",
       "    </tr>\n",
       "  </tbody>\n",
       "</table>\n",
       "</div>"
      ],
      "text/plain": [
       "          conv_datetime  temperature       PRED\n",
       "482 1979-10-17 09:00:00           -3  29.901518"
      ]
     },
     "execution_count": 21,
     "metadata": {},
     "output_type": "execute_result"
    }
   ],
   "source": [
    "mask = df['temperature'] < 0\n",
    "df[['conv_datetime', 'temperature', 'PRED']].loc[mask]"
   ]
  },
  {
   "cell_type": "markdown",
   "metadata": {},
   "source": [
    "I then decided to inspect the dataset further and since the dataset was introduced as an \"hourly Philippine weather data observations from 1978 to 2018 sourced from NOAA,\" I proceeded to query all of the hourly logs for that particular day to analyze the change in temperature. However, upon querying the dataset, I realized that there was only row for that entire day. As an alternative I proceeded to query the previous and succeeding days to check if there were any additional inconsistences in the dataset. \n",
    "\n",
    "As seen below, I was able to verify that the provided dataset had several inconsistences that affected the performance of the model. At first, I gave the dataset the benefit of the doubt since the anomaly was relatively old and several factors may have contributed to the temperature reading. I was once again proven wrong because, as seen below, the inconsistencies also extended to the tail of the dataset; the readings, at least for the late 70s, were not logged in an hourly fashion and the intervals were inconsistent and did not follow a logical pattern. "
   ]
  },
  {
   "cell_type": "code",
   "execution_count": 22,
   "metadata": {},
   "outputs": [
    {
     "data": {
      "text/html": [
       "<div>\n",
       "<style scoped>\n",
       "    .dataframe tbody tr th:only-of-type {\n",
       "        vertical-align: middle;\n",
       "    }\n",
       "\n",
       "    .dataframe tbody tr th {\n",
       "        vertical-align: top;\n",
       "    }\n",
       "\n",
       "    .dataframe thead th {\n",
       "        text-align: right;\n",
       "    }\n",
       "</style>\n",
       "<table border=\"1\" class=\"dataframe\">\n",
       "  <thead>\n",
       "    <tr style=\"text-align: right;\">\n",
       "      <th></th>\n",
       "      <th>conv_datetime</th>\n",
       "      <th>temperature</th>\n",
       "      <th>PRED</th>\n",
       "    </tr>\n",
       "  </thead>\n",
       "  <tbody>\n",
       "    <tr>\n",
       "      <th>481</th>\n",
       "      <td>1979-10-06 00:00:00</td>\n",
       "      <td>25</td>\n",
       "      <td>25.608614</td>\n",
       "    </tr>\n",
       "    <tr>\n",
       "      <th>482</th>\n",
       "      <td>1979-10-17 09:00:00</td>\n",
       "      <td>-3</td>\n",
       "      <td>29.901518</td>\n",
       "    </tr>\n",
       "    <tr>\n",
       "      <th>483</th>\n",
       "      <td>1979-10-18 06:00:00</td>\n",
       "      <td>28</td>\n",
       "      <td>30.982496</td>\n",
       "    </tr>\n",
       "    <tr>\n",
       "      <th>484</th>\n",
       "      <td>1979-11-28 18:00:00</td>\n",
       "      <td>23</td>\n",
       "      <td>25.923419</td>\n",
       "    </tr>\n",
       "    <tr>\n",
       "      <th>485</th>\n",
       "      <td>1979-11-30 12:00:00</td>\n",
       "      <td>26</td>\n",
       "      <td>26.122862</td>\n",
       "    </tr>\n",
       "    <tr>\n",
       "      <th>...</th>\n",
       "      <td>...</td>\n",
       "      <td>...</td>\n",
       "      <td>...</td>\n",
       "    </tr>\n",
       "    <tr>\n",
       "      <th>90560</th>\n",
       "      <td>2018-09-01 09:00:00</td>\n",
       "      <td>28</td>\n",
       "      <td>26.919917</td>\n",
       "    </tr>\n",
       "    <tr>\n",
       "      <th>90561</th>\n",
       "      <td>2018-09-01 12:00:00</td>\n",
       "      <td>28</td>\n",
       "      <td>26.727819</td>\n",
       "    </tr>\n",
       "    <tr>\n",
       "      <th>90562</th>\n",
       "      <td>2018-09-01 15:00:00</td>\n",
       "      <td>27</td>\n",
       "      <td>27.382912</td>\n",
       "    </tr>\n",
       "    <tr>\n",
       "      <th>90563</th>\n",
       "      <td>2018-09-01 18:00:00</td>\n",
       "      <td>27</td>\n",
       "      <td>28.415428</td>\n",
       "    </tr>\n",
       "    <tr>\n",
       "      <th>90564</th>\n",
       "      <td>2018-09-01 21:00:00</td>\n",
       "      <td>26</td>\n",
       "      <td>27.333906</td>\n",
       "    </tr>\n",
       "  </tbody>\n",
       "</table>\n",
       "<p>90084 rows × 3 columns</p>\n",
       "</div>"
      ],
      "text/plain": [
       "            conv_datetime  temperature       PRED\n",
       "481   1979-10-06 00:00:00           25  25.608614\n",
       "482   1979-10-17 09:00:00           -3  29.901518\n",
       "483   1979-10-18 06:00:00           28  30.982496\n",
       "484   1979-11-28 18:00:00           23  25.923419\n",
       "485   1979-11-30 12:00:00           26  26.122862\n",
       "...                   ...          ...        ...\n",
       "90560 2018-09-01 09:00:00           28  26.919917\n",
       "90561 2018-09-01 12:00:00           28  26.727819\n",
       "90562 2018-09-01 15:00:00           27  27.382912\n",
       "90563 2018-09-01 18:00:00           27  28.415428\n",
       "90564 2018-09-01 21:00:00           26  27.333906\n",
       "\n",
       "[90084 rows x 3 columns]"
      ]
     },
     "execution_count": 22,
     "metadata": {},
     "output_type": "execute_result"
    }
   ],
   "source": [
    "mask = df['conv_datetime'] > '1979-10-01 09:00:00'\n",
    "df[['conv_datetime', 'temperature', 'PRED']].loc[mask]"
   ]
  },
  {
   "cell_type": "markdown",
   "metadata": {},
   "source": [
    "After verifying the quality of the dataset, I plotted a boxplot of the actual and predicted temperature values to visualize the data of both columns.\n",
    "\n",
    "It can be seen below that although inconsistent beta coefficients were fed into the model, it was still smart enough not to predict a significant amount of outlier values. It can also be observed that the number of outlier temperature values in the actual temperature readings far exceed the ones found in the 'PRED' or predicted values column. "
   ]
  },
  {
   "cell_type": "code",
   "execution_count": 23,
   "metadata": {},
   "outputs": [
    {
     "data": {
      "text/plain": [
       "<AxesSubplot:>"
      ]
     },
     "execution_count": 23,
     "metadata": {},
     "output_type": "execute_result"
    },
    {
     "data": {
      "image/png": "[encoded data removed]",
      "text/plain": [
       "<Figure size 720x576 with 1 Axes>"
      ]
     },
     "metadata": {},
     "output_type": "display_data"
    }
   ],
   "source": [
    "plt.style.use('fivethirtyeight')\n",
    "plt.figure(figsize=(10,8))\n",
    "\n",
    "sns.boxplot(data = df[['temperature', 'PRED']])"
   ]
  },
  {
   "cell_type": "markdown",
   "metadata": {},
   "source": [
    "Upon further inspection of the scatter plot, I noticed that there was another outlier on the other side of the spectrum — a 52 degrees Celsius reading that was supposedly logged on 1982-01-05 09:00:00. "
   ]
  },
  {
   "cell_type": "code",
   "execution_count": 24,
   "metadata": {},
   "outputs": [
    {
     "data": {
      "text/html": [
       "<div>\n",
       "<style scoped>\n",
       "    .dataframe tbody tr th:only-of-type {\n",
       "        vertical-align: middle;\n",
       "    }\n",
       "\n",
       "    .dataframe tbody tr th {\n",
       "        vertical-align: top;\n",
       "    }\n",
       "\n",
       "    .dataframe thead th {\n",
       "        text-align: right;\n",
       "    }\n",
       "</style>\n",
       "<table border=\"1\" class=\"dataframe\">\n",
       "  <thead>\n",
       "    <tr style=\"text-align: right;\">\n",
       "      <th></th>\n",
       "      <th>conv_datetime</th>\n",
       "      <th>temperature</th>\n",
       "      <th>PRED</th>\n",
       "    </tr>\n",
       "  </thead>\n",
       "  <tbody>\n",
       "    <tr>\n",
       "      <th>1521</th>\n",
       "      <td>1982-01-05 09:00:00</td>\n",
       "      <td>52</td>\n",
       "      <td>40.827311</td>\n",
       "    </tr>\n",
       "  </tbody>\n",
       "</table>\n",
       "</div>"
      ],
      "text/plain": [
       "           conv_datetime  temperature       PRED\n",
       "1521 1982-01-05 09:00:00           52  40.827311"
      ]
     },
     "execution_count": 24,
     "metadata": {},
     "output_type": "execute_result"
    }
   ],
   "source": [
    "mask = df['temperature'] > 50\n",
    "df[['conv_datetime', 'temperature', 'PRED']].loc[mask]"
   ]
  },
  {
   "cell_type": "markdown",
   "metadata": {},
   "source": [
    "To add to this, not all of the columns were utilized as beta coefficients since majority of the entries in the 'precipitation' and 'gust_speed' columns were NaN, while the 'altitude' column did not have a single entry. \n",
    "\n",
    "Furthermore, the 'clouds' column could not be used as a beta coefficient given that the string values could not be converted into an int64 data type. Even if the station-observed cloud reports were mapped to corresponding int64 values, it would not have had any meaningful significance for the linear regression model as there would be no way of instructing the model that the said values are station-observed cloud reports. \n",
    "\n",
    "In conclusion, the preceding findings have revealed that the dataset is rife with disparities beyond the model's control. As a result, the model's performance was significantly affected by the outlier values. It should also be noted that linear regression, as indicated in its name, is simply a linear method that utilizes the relationship between the dependent (Y) and independent (X) values to model a best-fit line that is as close as possible to the said points. Thus, it can be established that in the context of this dataset, the linear regression model is not the ideal model that may be adopted to predict temperature values."
   ]
  }
 ],
 "metadata": {
  "kernelspec": {
   "display_name": "Python 3",
   "language": "python",
   "name": "python3"
  },
  "language_info": {
   "codemirror_mode": {
    "name": "ipython",
    "version": 3
   },
   "file_extension": ".py",
   "mimetype": "text/x-python",
   "name": "python",
   "nbconvert_exporter": "python",
   "pygments_lexer": "ipython3",
   "version": "3.7.10"
  }
 },
 "nbformat": 4,
 "nbformat_minor": 4
}
