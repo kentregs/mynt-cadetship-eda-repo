{
 "cells": [
  {
   "cell_type": "markdown",
   "id": "virgin-malpractice",
   "metadata": {},
   "source": [
    "1. Write a function to check whether a string is a palindrome. (A palindrome is a string that reads the same forwards and backwards) (1 pt.)"
   ]
  },
  {
   "cell_type": "code",
   "execution_count": 63,
   "id": "attempted-washington",
   "metadata": {},
   "outputs": [
    {
     "name": "stdin",
     "output_type": "stream",
     "text": [
      "Please enter an input:  kayak\n"
     ]
    },
    {
     "name": "stdout",
     "output_type": "stream",
     "text": [
      "\n",
      "<kayak> is a palindrome!\n"
     ]
    }
   ],
   "source": [
    "def isPalindrome(string):\n",
    "    if string[0:] == string[::-1]:\n",
    "        print(f'\\n<{string}> is a palindrome!')\n",
    "    else: \n",
    "        print(f'\\n<{string}> is not a palindrome!')\n",
    "\n",
    "if __name__ == '__main__':\n",
    "    string = input('Please enter an input: ')\n",
    "    isPalindrome(string)"
   ]
  },
  {
   "cell_type": "markdown",
   "id": "injured-chinese",
   "metadata": {},
   "source": [
    "2. Write a function that checks whether a number is prime or not (1 pt.)"
   ]
  },
  {
   "cell_type": "code",
   "execution_count": 177,
   "id": "completed-period",
   "metadata": {},
   "outputs": [
    {
     "name": "stdin",
     "output_type": "stream",
     "text": [
      "Please enter a number:  67\n"
     ]
    },
    {
     "name": "stdout",
     "output_type": "stream",
     "text": [
      "<67> is prime!\n"
     ]
    }
   ],
   "source": [
    "def isPrime(inp):\n",
    "    num = int(inp)\n",
    "    chk = 0\n",
    "    \n",
    "    if num > 1:\n",
    "        for i in range(2, int(num/2) + 1):\n",
    "            if num % i == 0 and chk == 0:\n",
    "                print(f'<{num}> is not prime!')\n",
    "                chk = 1\n",
    "        if chk == 0:\n",
    "            print(f'<{num}> is prime!')\n",
    "    else:\n",
    "        print(f'<{num}> is not prime!')\n",
    "    \n",
    "if __name__ == '__main__':\n",
    "    inp = input('Please enter a number: ')\n",
    "    isPrime(inp)"
   ]
  },
  {
   "cell_type": "markdown",
   "id": "committed-oxford",
   "metadata": {},
   "source": [
    "3. Load data/allstar.txt and create a dictionary where the keys are the verses or chorus numbers, and the values are the chords for that part of the song. 4 pts. { \"verse1\": \"Am, C, D, G, F, G, G, Bm\", \"chorus1\": \"C, Am, G, D, C, Am, G, D, C\"..} (4 pts.)"
   ]
  },
  {
   "cell_type": "code",
   "execution_count": 218,
   "id": "round-patch",
   "metadata": {},
   "outputs": [
    {
     "name": "stdout",
     "output_type": "stream",
     "text": [
      "{'[Verse 1]': ['G', 'D', 'Am', 'C', 'G', 'D', 'Am', 'C', 'G', 'D', 'Am', 'C', 'G', 'D', 'Am', 'C', 'G', 'D', 'Am', 'C', 'G', 'D', 'Am', 'C', 'G', 'D', 'Am', 'C', 'G', 'C', 'C#m', 'C', 'G', 'C', 'C#m', 'C', 'G', 'F', 'C', 'Am', 'C', 'G', 'D', 'Am', 'C', 'G', 'D', 'Am', 'C', 'G', 'D', 'Am', 'C', 'G', 'C', 'C#m', 'C', 'G', 'C', 'C#m', 'C', 'G', 'F', 'C', 'G', 'C', 'C#m', 'C', 'G', 'C', 'C#m', 'C', 'G', 'C', 'C#m', 'C', 'G', 'F', 'C', 'G', 'D', 'Am', 'C', 'G', 'D', 'Am', 'C', 'G', 'D', 'Am', 'C', 'G', 'D', 'Am', 'C', 'G', 'D', 'Am', 'C', 'G', 'D', 'Am', 'C', 'G', 'D', 'Am', 'C', 'G', 'C', 'C#m', 'C', 'G', 'C', 'C#m', 'C', 'G', 'F', 'C'], '[Chorus]': ['G', 'D', 'Am', 'C', 'G', 'D', 'Am', 'C', 'G', 'D', 'Am', 'C', 'G', 'D', 'Am', 'C', 'G', 'D', 'Am', 'C', 'G', 'D', 'Am', 'C', 'G', 'D', 'Am', 'C', 'G', 'C', 'C#m', 'C', 'G', 'C', 'C#m', 'C', 'G', 'F', 'C', 'Am', 'C', 'G', 'D', 'Am', 'C', 'G', 'D', 'Am', 'C', 'G', 'D', 'Am', 'C', 'G', 'C', 'C#m', 'C', 'G', 'C', 'C#m', 'C', 'G', 'F', 'C', 'G', 'C', 'C#m', 'C', 'G', 'C', 'C#m', 'C', 'G', 'C', 'C#m', 'C', 'G', 'F', 'C', 'G', 'D', 'Am', 'C', 'G', 'D', 'Am', 'C', 'G', 'D', 'Am', 'C', 'G', 'D', 'Am', 'C', 'G', 'D', 'Am', 'C', 'G', 'D', 'Am', 'C', 'G', 'D', 'Am', 'C', 'G', 'C', 'C#m', 'C', 'G', 'C', 'C#m', 'C', 'G', 'F', 'C'], '[Verse 2]': ['G', 'D', 'Am', 'C', 'G', 'D', 'Am', 'C', 'G', 'D', 'Am', 'C', 'G', 'D', 'Am', 'C', 'G', 'D', 'Am', 'C', 'G', 'D', 'Am', 'C', 'G', 'D', 'Am', 'C', 'G', 'C', 'C#m', 'C', 'G', 'C', 'C#m', 'C', 'G', 'F', 'C', 'Am', 'C', 'G', 'D', 'Am', 'C', 'G', 'D', 'Am', 'C', 'G', 'D', 'Am', 'C', 'G', 'C', 'C#m', 'C', 'G', 'C', 'C#m', 'C', 'G', 'F', 'C', 'G', 'C', 'C#m', 'C', 'G', 'C', 'C#m', 'C', 'G', 'C', 'C#m', 'C', 'G', 'F', 'C', 'G', 'D', 'Am', 'C', 'G', 'D', 'Am', 'C', 'G', 'D', 'Am', 'C', 'G', 'D', 'Am', 'C', 'G', 'D', 'Am', 'C', 'G', 'D', 'Am', 'C', 'G', 'D', 'Am', 'C', 'G', 'C', 'C#m', 'C', 'G', 'C', 'C#m', 'C', 'G', 'F', 'C'], '[Verse 3]': ['G', 'D', 'Am', 'C', 'G', 'D', 'Am', 'C', 'G', 'D', 'Am', 'C', 'G', 'D', 'Am', 'C', 'G', 'D', 'Am', 'C', 'G', 'D', 'Am', 'C', 'G', 'D', 'Am', 'C', 'G', 'C', 'C#m', 'C', 'G', 'C', 'C#m', 'C', 'G', 'F', 'C', 'Am', 'C', 'G', 'D', 'Am', 'C', 'G', 'D', 'Am', 'C', 'G', 'D', 'Am', 'C', 'G', 'C', 'C#m', 'C', 'G', 'C', 'C#m', 'C', 'G', 'F', 'C', 'G', 'C', 'C#m', 'C', 'G', 'C', 'C#m', 'C', 'G', 'C', 'C#m', 'C', 'G', 'F', 'C', 'G', 'D', 'Am', 'C', 'G', 'D', 'Am', 'C', 'G', 'D', 'Am', 'C', 'G', 'D', 'Am', 'C', 'G', 'D', 'Am', 'C', 'G', 'D', 'Am', 'C', 'G', 'D', 'Am', 'C', 'G', 'C', 'C#m', 'C', 'G', 'C', 'C#m', 'C', 'G', 'F', 'C']}\n"
     ]
    }
   ],
   "source": [
    "import pprint\n",
    "import re\n",
    "\n",
    "def allDatGlitterIsGold():\n",
    "    with open('C:/Users/matthewkent.regalado/Desktop/python_MLE/apper_eda/allstar.txt', \n",
    "              'r', newline='\\r\\n') as inp:\n",
    "        pattern_1 = re.compile('Verse')\n",
    "        pattern_2 = re.compile('Chorus')\n",
    "        lines = inp.read().splitlines()\n",
    "        total_len = len(lines) - 1\n",
    "        music_dict = {}\n",
    "        val_list = []\n",
    "    \n",
    "        for i in range(0, total_len):\n",
    "            curr_line = lines[i].split()      \n",
    "            next_line = lines[i + 1].split()      \n",
    "            curr_string = ''.join(curr_line)\n",
    "            next_string = ','.join(next_line)\n",
    "            \n",
    "            if pattern_1.search(curr_string) or pattern_2.search(curr_string) or \\\n",
    "               pattern_1.search(next_string) or pattern_2.search(next_string):\n",
    "                curr_string = ' '.join(curr_line)\n",
    "                next_string = ','.join(next_line)\n",
    "                string_list = next_string.split(',')\n",
    "                \n",
    "                if len(curr_string) > 1:\n",
    "                    music_dict[curr_string] = val_list\n",
    "                    curr_key = curr_string\n",
    "            \n",
    "            else:\n",
    "                string_list = next_string.split(',')\n",
    "                str_list_len = len(string_list)\n",
    "                \n",
    "                if str_list_len <= 5 and str_list_len > 1:\n",
    "                    val_list.extend(string_list)\n",
    "        \n",
    "        print(music_dict)\n",
    "#         pprint.pprint(music_dict)\n",
    "            \n",
    "if __name__ == '__main__':\n",
    "    allDatGlitterIsGold()"
   ]
  },
  {
   "cell_type": "markdown",
   "id": "radio-pride",
   "metadata": {},
   "source": [
    "4. Build a dictionary from data/allstar.txt where the keys are the unique words, and the values are the number of times the word appeared in the song. (4 pts.)"
   ]
  },
  {
   "cell_type": "code",
   "execution_count": 270,
   "id": "convenient-fifth",
   "metadata": {},
   "outputs": [
    {
     "name": "stdout",
     "output_type": "stream",
     "text": [
      "{'Verse': 3, '1': 1, 'G': 36, 'D': 20, 'Am': 20, 'C': 48, 'Somebody': 2, 'once': 2, 'told': 1, 'me': 2, 'the': 24, 'world': 1, 'is': 6, 'gonna': 1, 'roll': 1, 'I': 8, \"ain't\": 1, 'sharpest': 1, 'tool': 1, 'in': 3, 'shed': 1, 'She': 1, 'was': 1, 'looking': 1, 'kinda': 1, 'dumb': 3, 'with': 3, 'her': 3, 'finger': 1, 'and': 7, 'Thumb': 1, 'shape': 1, 'of': 1, 'an': 5, '\"L\"': 1, 'on': 6, 'forehead': 1, 'Well': 2, 'years': 2, 'start': 2, 'coming': 4, 'they': 3, \"don't\": 6, 'stop': 2, 'Back': 2, 'to': 10, 'rules': 2, 'hit': 2, 'ground': 2, 'running': 2, \"Didn't\": 2, 'make': 2, 'sense': 2, 'not': 2, 'live': 2, 'for': 3, 'fun': 2, 'Your': 2, 'brain': 2, 'gets': 5, 'smart': 2, 'but': 3, 'your': 6, 'head': 2, 'So': 4, 'much': 4, 'do': 2, 'so': 3, 'see': 2, \"what's\": 2, 'wrong': 2, 'taking': 2, 'back': 2, 'streets': 2, \"You'll\": 4, 'never': 5, 'know': 2, 'if': 4, 'you': 7, 'go': 6, 'shine': 2, 'glow': 2, 'Chorus': 3, 'C#m': 12, 'Hey': 8, 'now': 9, \"you're\": 8, 'All': 4, 'Star': 8, 'get': 15, 'game': 4, 'on,': 4, 'play': 4, 'a': 8, 'Rock': 4, 'show': 4, 'paid': 4, 'And': 5, 'all': 5, 'that': 4, 'glitters': 4, 'gold': 4, 'F': 4, 'Only': 4, 'shooting': 4, 'stars': 4, 'break': 4, 'mold': 4, '2': 1, \"It's\": 1, 'cool': 1, 'place': 2, 'say': 1, 'it': 2, 'colder': 1, \"You're\": 1, 'bundled': 1, 'up': 1, 'wait': 1, \"'til\": 1, 'older': 1, 'But': 1, 'media': 1, 'men': 1, 'beg': 1, 'differ': 1, 'Judging': 1, 'by': 1, 'hole': 1, 'satellite': 1, 'picture': 1, 'The': 2, 'ice': 1, 'we': 2, 'skate': 1, 'getting': 2, 'pretty': 1, 'thin': 1, 'waters': 1, 'warm': 1, 'might': 1, 'as': 1, 'well': 1, 'swim': 1, 'My': 1, \"world's\": 1, 'fire': 1, 'how': 1, 'about': 1, 'yours': 1, \"That's\": 1, 'way': 1, 'like': 1, 'bored': 1, '3': 1, 'asked,': 1, 'could': 3, 'spare': 1, 'some': 1, 'change': 2, 'gas': 1, 'need': 1, 'myself': 2, 'away': 1, 'from': 1, 'this': 1, 'said': 1, 'yep': 1, 'what': 1, 'concept': 1, 'use': 2, 'little': 2, 'fuel': 1}\n"
     ]
    }
   ],
   "source": [
    "import pprint\n",
    "import re\n",
    "\n",
    "def uniqueWordCtr():\n",
    "    with open('C:/Users/matthewkent.regalado/Desktop/python_MLE/apper_eda/allstar.txt', \n",
    "              'r', newline='\\r\\n') as inp:\n",
    "        music_dict = {}\n",
    "        lines = inp.readlines()\n",
    "        \n",
    "        for line in lines:\n",
    "            line = line.strip()\n",
    "            line = line.strip('[')\n",
    "            line = line.strip(']')\n",
    "            \n",
    "            words = line.split()\n",
    "            \n",
    "            for word in words:\n",
    "                if word not in music_dict:\n",
    "                    music_dict[word] = 1\n",
    "                else:\n",
    "                    music_dict[word] += 1\n",
    "                    \n",
    "        print(music_dict)\n",
    "            \n",
    "if __name__ == '__main__':\n",
    "    uniqueWordCtr()"
   ]
  },
  {
   "cell_type": "markdown",
   "id": "looking-ribbon",
   "metadata": {},
   "source": [
    "5. Load Rick Astley - Never Gonna Give You Up Lyrics _ AZLyrics.com.html and find out the ff (show the code): (10 pts.)\n",
    "\n",
    "- How many unique words are there?\n",
    "- List what will Rick Astley never do?\n",
    "- Write a function that lists all the unique words and counts the num of occurences. Output the result as a dictionary similar to **Item 4.**\n",
    "- Use the dictionary from above to create a word count histogram."
   ]
  },
  {
   "cell_type": "code",
   "execution_count": 21,
   "id": "higher-spotlight",
   "metadata": {},
   "outputs": [
    {
     "name": "stdout",
     "output_type": "stream",
     "text": [
      "\n",
      "Unique words: 78\n",
      "{'of', 'just', 'what', 'im', 'lie', 'a', 'inside', 'but', 'hearts', 'wouldnt', 'desert', 'too', 'we', 'each', 'any', 'known', 'full', 'been', 'so', 'it', 'play', 'this', 'say', 'get', 'let', 'shy', 'blind', 'on', 'rules', 'and', 'youre', 'both', 'goodbye', 'see', 'ask', 'thinking', 'gotta', 'other', 'guy', 'going', 'me', 'from', 'up', 'never', 'around', 'do', 'wanna', 'commitments', 'for', 'to', 'i', 'ooh', 'your', 'the', 'you', 'were', 'hurt', 'know', 'whats', 'feeling', 'how', 'down', 'run', 'cry', 'long', 'gonna', 'weve', 'strangers', 'give', 'love', 'dont', 'game', 'no', 'understand', 'make', 'if', 'aching', 'tell'}\n",
      "\n",
      "Unique never gonnas: 7\n",
      "{'never gonna run around and desert you', 'never gonna make you cry', 'never gonna give never gonna give', 'never gonna say goodbye', 'never gonna give you up', 'never gonna tell a lie and hurt you', 'never gonna let you down'}\n",
      "\n"
     ]
    },
    {
     "data": {
      "image/png": "[encoded data removed]",
      "text/plain": [
       "<Figure size 2880x720 with 1 Axes>"
      ]
     },
     "metadata": {
      "needs_background": "light"
     },
     "output_type": "display_data"
    }
   ],
   "source": [
    "import matplotlib.pyplot as plt\n",
    "from bs4 import BeautifulSoup\n",
    "import string\n",
    "import pprint\n",
    "import re\n",
    "\n",
    "def uniqueWordCtr():\n",
    "    with open('C:/Users/matthewkent.regalado/Desktop/python_MLE/apper_eda/Rick Astley - Never Gonna Give You Up Lyrics _ AZLyrics.com.html', \n",
    "              'r', newline='\\r\\n') as inp:\n",
    "        rick_roll_dict = {}\n",
    "        \n",
    "        html_content = inp.read()\n",
    "        soup = BeautifulSoup(html_content, 'lxml')\n",
    "        data = soup.find_all('div')[19].get_text()\n",
    "        cleaned = data.translate(str.maketrans('','', string.punctuation)).lower()\n",
    "        words = cleaned.split()\n",
    "        \n",
    "        for word in words:\n",
    "            if word not in rick_roll_dict:\n",
    "                rick_roll_dict[word] = 1\n",
    "            else:\n",
    "                rick_roll_dict[word] += 1\n",
    "                \n",
    "#         print(f'Unique words and their number of occurrences:\\n {rick_roll_dict}')\n",
    "        return rick_roll_dict\n",
    "#         pprint.pprint(rick_roll_dict)\n",
    "\n",
    "def getUniqueWordsAndNeverGonnas():\n",
    "    with open('C:/Users/matthewkent.regalado/Desktop/python_MLE/apper_eda/Rick Astley - Never Gonna Give You Up Lyrics _ AZLyrics.com.html', \n",
    "              'r', newline='\\r\\n') as inp:\n",
    "        html_content = inp.read()\n",
    "        soup = BeautifulSoup(html_content, 'lxml')\n",
    "        data = soup.find_all('div')[19].get_text()\n",
    "        cleaned = data.translate(str.maketrans('','', string.punctuation)).lower()\n",
    "        temp = cleaned.splitlines()\n",
    "        cleaned = [line for line in temp if line!='']\n",
    "        \n",
    "        pattern = re.compile('never gonna')\n",
    "        never_gonnas = [line for line in temp if pattern.search(line)]\n",
    "        \n",
    "        word_list = []\n",
    "        \n",
    "        for line in cleaned:\n",
    "            words = line.split()\n",
    "            for word in words:\n",
    "                word_list.append(word)\n",
    "                \n",
    "        unq_words = set(word_list)\n",
    "        unq_never_gonnas = set(never_gonnas)\n",
    "        total_unq_words = len(unq_words)\n",
    "        total_unq_never_gonnas = len(unq_never_gonnas)\n",
    "\n",
    "        print(f'\\nUnique words: {total_unq_words}\\n{unq_words}')\n",
    "        print(f'\\nUnique never gonnas: {total_unq_never_gonnas}\\n{unq_never_gonnas}\\n')\n",
    "        \n",
    "def histogramGenerator(rick_roll_dict):\n",
    "    # Set up the axes and figure\n",
    "    fig, ax = plt.subplots(figsize=(40,10))\n",
    "    \n",
    "    ax.bar(rick_roll_dict.keys(), rick_roll_dict.values(), align='center')\n",
    "\n",
    "    # Make space for and rotate the x-axis tick labels\n",
    "    fig.autofmt_xdate()\n",
    "    plt.show()\n",
    "    \n",
    "if __name__ == '__main__':\n",
    "    getUniqueWordsAndNeverGonnas()\n",
    "    uniqueWordCtr()\n",
    "    histogramGenerator(uniqueWordCtr())"
   ]
  },
  {
   "cell_type": "markdown",
   "id": "reverse-turning",
   "metadata": {},
   "source": [
    "6. Create a function that takes in 3 parameters (integer n, integer a, integer b), and generates an nxn numpy matrix with random values from the range a to b inclusive. (2 pts.)"
   ]
  },
  {
   "cell_type": "code",
   "execution_count": 59,
   "id": "sufficient-interview",
   "metadata": {},
   "outputs": [
    {
     "name": "stdin",
     "output_type": "stream",
     "text": [
      "Please enter the matrix dimension, floor value, and ceiling value:  9 0 5\n"
     ]
    },
    {
     "name": "stdout",
     "output_type": "stream",
     "text": [
      "\n",
      "[[2 3 2 2 5 1 4 1 0]\n",
      " [3 1 3 5 1 3 5 5 5]\n",
      " [5 0 0 4 5 1 5 5 3]\n",
      " [5 5 1 1 4 2 1 1 4]\n",
      " [5 1 4 4 4 0 1 1 0]\n",
      " [4 0 2 5 1 1 4 2 3]\n",
      " [3 5 0 4 5 3 4 0 0]\n",
      " [1 3 2 2 1 2 3 4 3]\n",
      " [3 1 4 2 2 0 3 5 3]]\n"
     ]
    }
   ],
   "source": [
    "import numpy as np\n",
    "\n",
    "def matrixGenerator(dimension, flr, ceil):\n",
    "    matrix = np.random.randint(flr, ceil + 1, (dimension, dimension))   \n",
    "    print(f'\\n{matrix}')\n",
    "    \n",
    "if __name__ == '__main__':\n",
    "    dimension, flr, ceil = input('Please enter the matrix dimension, floor value, and ceiling value: ').split()\n",
    "\n",
    "    matrixGenerator(int(dimension), int(flr), int(ceil))"
   ]
  },
  {
   "cell_type": "markdown",
   "id": "independent-method",
   "metadata": {},
   "source": [
    "7. Create a 5x5 identity matrix (1pt)"
   ]
  },
  {
   "cell_type": "code",
   "execution_count": 60,
   "id": "olive-modern",
   "metadata": {},
   "outputs": [
    {
     "name": "stdin",
     "output_type": "stream",
     "text": [
      "Please enter the identity matrix dimensions:  6\n"
     ]
    },
    {
     "name": "stdout",
     "output_type": "stream",
     "text": [
      "\n",
      "[[1. 0. 0. 0. 0. 0.]\n",
      " [0. 1. 0. 0. 0. 0.]\n",
      " [0. 0. 1. 0. 0. 0.]\n",
      " [0. 0. 0. 1. 0. 0.]\n",
      " [0. 0. 0. 0. 1. 0.]\n",
      " [0. 0. 0. 0. 0. 1.]]\n"
     ]
    }
   ],
   "source": [
    "def identityMatrixGenerator(dimensions):\n",
    "    id_matrix = np.eye(dimensions)          \n",
    "    print(f'\\n{id_matrix}')\n",
    "    \n",
    "if __name__ == '__main__':\n",
    "    dimensions = input('Please enter the identity matrix dimensions: ')\n",
    "    \n",
    "    identityMatrixGenerator(int(dimensions))"
   ]
  },
  {
   "cell_type": "markdown",
   "id": "perfect-peninsula",
   "metadata": {},
   "source": [
    "8. Create a function that lists the first n prime numbers (2pts)"
   ]
  },
  {
   "cell_type": "code",
   "execution_count": 50,
   "id": "western-eight",
   "metadata": {},
   "outputs": [
    {
     "name": "stdin",
     "output_type": "stream",
     "text": [
      "How many prime numbers would you like to generate?:  5\n"
     ]
    },
    {
     "name": "stdout",
     "output_type": "stream",
     "text": [
      "\n",
      "first 5 prime numbers: [2, 3, 5, 7, 11]\n"
     ]
    }
   ],
   "source": [
    "def primeNumGenerator(limit):\n",
    "    start_num = 1\n",
    "    prime_num_list = []\n",
    "    \n",
    "    while True:\n",
    "        if limit <= 0:\n",
    "            break\n",
    "        else:\n",
    "            if start_num > 1:\n",
    "                for i in range(2, start_num):\n",
    "                    if (start_num % i) == 0:\n",
    "                        break\n",
    "                else:\n",
    "                    prime_num_list.append(start_num)\n",
    "            if (len(prime_num_list) == limit):\n",
    "                print(f'\\nfirst {limit} prime numbers: {prime_num_list}')\n",
    "                break\n",
    "            else:\n",
    "                start_num += 1\n",
    "            \n",
    "if __name__ == '__main__':\n",
    "    limit = input(\"How many prime numbers would you like to generate?: \")\n",
    "    primeNumGenerator(int(limit))"
   ]
  }
 ],
 "metadata": {
  "kernelspec": {
   "display_name": "project-env",
   "language": "python",
   "name": "project-env"
  },
  "language_info": {
   "codemirror_mode": {
    "name": "ipython",
    "version": 3
   },
   "file_extension": ".py",
   "mimetype": "text/x-python",
   "name": "python",
   "nbconvert_exporter": "python",
   "pygments_lexer": "ipython3",
   "version": "3.7.10"
  }
 },
 "nbformat": 4,
 "nbformat_minor": 5
}
