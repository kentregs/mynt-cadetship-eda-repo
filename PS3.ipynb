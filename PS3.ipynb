{
 "cells": [
  {
   "cell_type": "markdown",
   "metadata": {},
   "source": [
    "# Problem Set 3 CS129.18\n",
    "\n",
    "The following problem set will revolve around the Enron Emails dataset.\n",
    "The dataset `data/enron-data/` directory has 6 files. The objective is to build a classifier for whether email is spam or not.\n"
   ]
  },
  {
   "cell_type": "markdown",
   "metadata": {},
   "source": [
    "## Requirements\n",
    "\n",
    "\n",
    ">Spam or Ham?\n",
    "\n",
    "Using the lessons on Naive Bayes and TF-IDF, and the other resource notebooks, show the following in this Jupyter Notebook.\n",
    "\n",
    "Write your answers down as Markdown cells or comments in the code.\n",
    "\n",
    "**Using Enron 1 and 2**\n",
    "\n",
    "1. How many Spam Emails are there? ( 1 pt )\n",
    "\n",
    "2. Structure the email data from the 2 directories into 1 dataframe with columns: Status, Subject, Body ( 7 pts )\n",
    "\n",
    "3. Build a Naive Bayes classifier to classify whether emails are spam or not. ( 3 pts )\n",
    "\n",
    "4. What is the longest ham email? ( 1 pt )\n",
    "\n",
    "5. What is the accuracy of your model?( 1 pt )\n",
    "\n",
    "6. Include the Subject in the analysis of the emails, does the accuracy/performance of the model increase? (7 pts)\n",
    "\n",
    "\n",
    "\n",
    "-----\n",
    "\n",
    "\n",
    "Bonus : Answer questions 1-6 using Enron 1,2, and 3. (5 pts)\n",
    "\n",
    "----\n",
    "\n",
    "**Submit this file on Moodle on the submission link I will provide. This is due October 18 12nn.**"
   ]
  },
  {
   "cell_type": "code",
   "execution_count": 1,
   "metadata": {},
   "outputs": [],
   "source": [
    "%matplotlib inline\n",
    "\n",
    "import matplotlib.pylab as plt\n",
    "# import matplotlib.pyplot as plt\n",
    "import numpy as np\n",
    "import pandas as pd\n",
    "import seaborn as sns\n",
    "import os\n",
    "import random"
   ]
  },
  {
   "cell_type": "code",
   "execution_count": 2,
   "metadata": {},
   "outputs": [
    {
     "name": "stdout",
     "output_type": "stream",
     "text": [
      "data/enron-data/enron1 ['ham', 'spam'] 2\n",
      "data/enron-data/enron1\\ham [] 3672\n",
      "data/enron-data/enron1\\spam ['.ipynb_checkpoints'] 1499\n",
      "data/enron-data/enron1\\spam\\.ipynb_checkpoints [] 4\n"
     ]
    }
   ],
   "source": [
    "rootdir = \"data/enron-data/enron1\"\n",
    "# Loop through all the directories, sub directories and files in the above folder, and print them.\n",
    "for directories, subdirs, files in os.walk(rootdir):\n",
    "    print(directories, subdirs, len(files))"
   ]
  },
  {
   "cell_type": "code",
   "execution_count": 3,
   "metadata": {},
   "outputs": [],
   "source": [
    "ham_list = []\n",
    "spam_list = []\n",
    "\n",
    "# Same as before, but this time, read the files, and append them to the ham and spam list\n",
    "for directories, subdirs, files in os.walk(rootdir):\n",
    "    if (os.path.split(directories)[1]  == 'ham'):\n",
    "        for filename in files:      \n",
    "            with open(os.path.join(directories, filename), encoding=\"latin-1\") as f:\n",
    "                data = f.read()\n",
    "                ham_list.append(data)\n",
    "    \n",
    "    if (os.path.split(directories)[1]  == 'spam'):\n",
    "        for filename in files:\n",
    "            with open(os.path.join(directories, filename), encoding=\"latin-1\") as f:\n",
    "                data = f.read()\n",
    "                spam_list.append(data)"
   ]
  },
  {
   "cell_type": "code",
   "execution_count": 4,
   "metadata": {},
   "outputs": [],
   "source": [
    "rootdir2 = \"data/enron-data/enron1\"\n",
    "\n",
    "ham_list2 = []\n",
    "spam_list2 = []\n",
    "\n",
    "# Same as before, but this time, read the files, and append them to the ham and spam list\n",
    "for directories, subdirs, files in os.walk(rootdir2):\n",
    "    if (os.path.split(directories)[1]  == 'ham'):\n",
    "        for filename in files:      \n",
    "            with open(os.path.join(directories, filename), encoding=\"latin-1\") as f:\n",
    "                data = f.read()\n",
    "                ham_list2.append(data)\n",
    "    \n",
    "    if (os.path.split(directories)[1]  == 'spam'):\n",
    "        for filename in files:\n",
    "            with open(os.path.join(directories, filename), encoding=\"latin-1\") as f:\n",
    "                data = f.read()\n",
    "                spam_list2.append(data)"
   ]
  },
  {
   "cell_type": "code",
   "execution_count": 5,
   "metadata": {},
   "outputs": [
    {
     "name": "stdout",
     "output_type": "stream",
     "text": [
      "Subject: christmas tree farm pictures\n",
      "\n"
     ]
    }
   ],
   "source": [
    "print(ham_list[0])"
   ]
  },
  {
   "cell_type": "code",
   "execution_count": 6,
   "metadata": {},
   "outputs": [
    {
     "name": "stdout",
     "output_type": "stream",
     "text": [
      "Subject: dobmeos with hgh my energy level has gone up ! stukm\n",
      "introducing\n",
      "doctor - formulated\n",
      "hgh\n",
      "human growth hormone - also called hgh\n",
      "is referred to in medical science as the master hormone . it is very plentiful\n",
      "when we are young , but near the age of twenty - one our bodies begin to produce\n",
      "less of it . by the time we are forty nearly everyone is deficient in hgh ,\n",
      "and at eighty our production has normally diminished at least 90 - 95 % .\n",
      "advantages of hgh :\n",
      "- increased muscle strength\n",
      "- loss in body fat\n",
      "- increased bone density\n",
      "- lower blood pressure\n",
      "- quickens wound healing\n",
      "- reduces cellulite\n",
      "- improved vision\n",
      "- wrinkle disappearance\n",
      "- increased skin thickness texture\n",
      "- increased energy levels\n",
      "- improved sleep and emotional stability\n",
      "- improved memory and mental alertness\n",
      "- increased sexual potency\n",
      "- resistance to common illness\n",
      "- strengthened heart muscle\n",
      "- controlled cholesterol\n",
      "- controlled mood swings\n",
      "- new hair growth and color restore\n",
      "read\n",
      "more at this website\n",
      "unsubscribe\n",
      "\n"
     ]
    }
   ],
   "source": [
    "print(spam_list[0])"
   ]
  },
  {
   "cell_type": "markdown",
   "metadata": {},
   "source": [
    "## 1. How many Spam Emails are there? ( 1 pt )\n",
    "---"
   ]
  },
  {
   "cell_type": "code",
   "execution_count": 7,
   "metadata": {},
   "outputs": [
    {
     "name": "stdout",
     "output_type": "stream",
     "text": [
      "\n",
      "There are <2998> spam emails in the enron1 and enron2 directories.\n"
     ]
    }
   ],
   "source": [
    "enron1_num_spam_emails = len(spam_list)\n",
    "enron2_num_spam_emails = len(spam_list2)\n",
    "total_spam_emails = enron1_num_spam_emails + enron2_num_spam_emails\n",
    "\n",
    "print(f'\\nThere are <{total_spam_emails}> spam emails in the enron1 and enron2 directories.')"
   ]
  },
  {
   "cell_type": "markdown",
   "metadata": {},
   "source": [
    "## 2. Structure the email data from the 2 directories into 1 dataframe with columns: Status, Subject, Body ( 7 pts )\n",
    "---"
   ]
  },
  {
   "cell_type": "code",
   "execution_count": 8,
   "metadata": {},
   "outputs": [
    {
     "data": {
      "text/html": [
       "<div>\n",
       "<style scoped>\n",
       "    .dataframe tbody tr th:only-of-type {\n",
       "        vertical-align: middle;\n",
       "    }\n",
       "\n",
       "    .dataframe tbody tr th {\n",
       "        vertical-align: top;\n",
       "    }\n",
       "\n",
       "    .dataframe thead th {\n",
       "        text-align: right;\n",
       "    }\n",
       "</style>\n",
       "<table border=\"1\" class=\"dataframe\">\n",
       "  <thead>\n",
       "    <tr style=\"text-align: right;\">\n",
       "      <th></th>\n",
       "      <th>Status</th>\n",
       "      <th>Subject</th>\n",
       "      <th>Body</th>\n",
       "    </tr>\n",
       "  </thead>\n",
       "  <tbody>\n",
       "    <tr>\n",
       "      <th>7513</th>\n",
       "      <td>ham</td>\n",
       "      <td>f . o . m . nomination eff . june 1 , 2000</td>\n",
       "      <td>fyi - - - - - - - - - - - - - - - - - - - - - ...</td>\n",
       "    </tr>\n",
       "    <tr>\n",
       "      <th>930</th>\n",
       "      <td>spam</td>\n",
       "      <td>download popular christmas musi</td>\n",
       "      <td>hello sorry this took so long to send this is ...</td>\n",
       "    </tr>\n",
       "    <tr>\n",
       "      <th>7644</th>\n",
       "      <td>ham</td>\n",
       "      <td>shut - in of # 986315</td>\n",
       "      <td>meter 0986315 shawnee spring common point was ...</td>\n",
       "    </tr>\n",
       "    <tr>\n",
       "      <th>4505</th>\n",
       "      <td>ham</td>\n",
       "      <td>cornhusker</td>\n",
       "      <td>i have entered deals into sitara . the supply ...</td>\n",
       "    </tr>\n",
       "    <tr>\n",
       "      <th>5331</th>\n",
       "      <td>ham</td>\n",
       "      <td>your amazon . com order ( # 104 - 9670681 - 0...</td>\n",
       "      <td>hello from amazon . com . we are sorry to repo...</td>\n",
       "    </tr>\n",
       "    <tr>\n",
       "      <th>5295</th>\n",
       "      <td>ham</td>\n",
       "      <td>hpl meter # 989824 decker laureles farm c / p</td>\n",
       "      <td>daren : on 1 / 25 / 2000 the above meter has r...</td>\n",
       "    </tr>\n",
       "    <tr>\n",
       "      <th>7709</th>\n",
       "      <td>ham</td>\n",
       "      <td>re : fuel</td>\n",
       "      <td>per mary , sitara can not handle it either . i...</td>\n",
       "    </tr>\n",
       "    <tr>\n",
       "      <th>2667</th>\n",
       "      <td>spam</td>\n",
       "      <td>your pharmacy tv</td>\n",
       "      <td>would you want cheap perscriptions ? http : / ...</td>\n",
       "    </tr>\n",
       "    <tr>\n",
       "      <th>2432</th>\n",
       "      <td>spam</td>\n",
       "      <td>some advice to him</td>\n",
       "      <td>mon , 27 dec 2004 11 : 16 : 55 - 0600 good day...</td>\n",
       "    </tr>\n",
       "    <tr>\n",
       "      <th>6802</th>\n",
       "      <td>ham</td>\n",
       "      <td>re : sales to panenergy at exxon clear lake f...</td>\n",
       "      <td>daren . i need a deal ticket for this . - - - ...</td>\n",
       "    </tr>\n",
       "  </tbody>\n",
       "</table>\n",
       "</div>"
      ],
      "text/plain": [
       "     Status                                            Subject  \\\n",
       "7513    ham         f . o . m . nomination eff . june 1 , 2000   \n",
       "930    spam                    download popular christmas musi   \n",
       "7644    ham                              shut - in of # 986315   \n",
       "4505    ham                                         cornhusker   \n",
       "5331    ham   your amazon . com order ( # 104 - 9670681 - 0...   \n",
       "5295    ham      hpl meter # 989824 decker laureles farm c / p   \n",
       "7709    ham                                          re : fuel   \n",
       "2667   spam                                   your pharmacy tv   \n",
       "2432   spam                                 some advice to him   \n",
       "6802    ham   re : sales to panenergy at exxon clear lake f...   \n",
       "\n",
       "                                                   Body  \n",
       "7513  fyi - - - - - - - - - - - - - - - - - - - - - ...  \n",
       "930   hello sorry this took so long to send this is ...  \n",
       "7644  meter 0986315 shawnee spring common point was ...  \n",
       "4505  i have entered deals into sitara . the supply ...  \n",
       "5331  hello from amazon . com . we are sorry to repo...  \n",
       "5295  daren : on 1 / 25 / 2000 the above meter has r...  \n",
       "7709  per mary , sitara can not handle it either . i...  \n",
       "2667  would you want cheap perscriptions ? http : / ...  \n",
       "2432  mon , 27 dec 2004 11 : 16 : 55 - 0600 good day...  \n",
       "6802  daren . i need a deal ticket for this . - - - ...  "
      ]
     },
     "execution_count": 8,
     "metadata": {},
     "output_type": "execute_result"
    }
   ],
   "source": [
    "import re\n",
    "\n",
    "# initialize an emopty dataframe\n",
    "df = pd.DataFrame()\n",
    "\n",
    "# initialize lists to be stored to the dataframe\n",
    "status_lst = []\n",
    "subject_lst = []\n",
    "body_lst = []\n",
    "\n",
    "# initialize complete list of spam emails and populate it with existing spam lists\n",
    "complete_spam_lst = []\n",
    "complete_spam_lst.extend(spam_list)\n",
    "complete_spam_lst.extend(spam_list2)\n",
    "\n",
    "# initialize complete list of ham emails and populate it with existing ham lists\n",
    "complete_ham_lst = []\n",
    "complete_ham_lst.extend(ham_list)\n",
    "complete_ham_lst.extend(ham_list2)\n",
    "\n",
    "# initialize regex pattern\n",
    "pattern_1 = re.compile('Subject:')\n",
    "\n",
    "# initialize empty string variables for the body data of spam and ham emails\n",
    "spam_str = ''\n",
    "ham_str = ''\n",
    "\n",
    "# parse complete spam list for subject and body data\n",
    "for spam in complete_spam_lst:\n",
    "    # split each list item to lines \n",
    "    spam_lines = spam.splitlines()\n",
    "    \n",
    "    # parse the email's body data by aggregating all lines after index 0 \n",
    "    # and convert them to a single string\n",
    "    spam_str = ' '.join(spam_lines[1:])\n",
    "    \n",
    "    for line in spam_lines:\n",
    "        if pattern_1.search(line):\n",
    "            line = line.strip('Subject:')\n",
    "            subject_lst.append(line)\n",
    "            # set status to spam\n",
    "            status_lst.append('spam')  \n",
    "            body_lst.append(spam_str)\n",
    "\n",
    "ceil_body = 0\n",
    "            \n",
    "# parse complete ham list for subject and body data\n",
    "for ham in complete_ham_lst:\n",
    "    # split each list item to lines \n",
    "    ham_lines = ham.splitlines()\n",
    "    \n",
    "    # parse the email's body data by aggregating all lines after index 0 \n",
    "    # and convert them to a single string\n",
    "    ham_str = ' '.join(ham_lines[1:])\n",
    "    \n",
    "    for line in ham_lines:\n",
    "        if pattern_1.search(line):\n",
    "            line = line.strip('Subject:')\n",
    "            subject_lst.append(line)\n",
    "            # set status to ham\n",
    "            status_lst.append('ham')\n",
    "            body_lst.append(ham_str)\n",
    "            if len(ham_str) > ceil_body:\n",
    "                ceil_body = len(ham_str)\n",
    "            \n",
    "# append lists to their respective datframe columns\n",
    "df['Status'] = status_lst\n",
    "df['Subject'] = subject_lst\n",
    "df['Body'] = body_lst\n",
    "\n",
    "# display 10 random rows\n",
    "df.sample(10)"
   ]
  },
  {
   "cell_type": "code",
   "execution_count": 9,
   "metadata": {},
   "outputs": [
    {
     "data": {
      "text/plain": [
       "31817"
      ]
     },
     "execution_count": 9,
     "metadata": {},
     "output_type": "execute_result"
    }
   ],
   "source": [
    "ceil_body"
   ]
  },
  {
   "cell_type": "markdown",
   "metadata": {},
   "source": [
    "## 3. Build a Naive Bayes classifier to classify whether emails are spam or not. ( 3 pts )\n",
    "---"
   ]
  },
  {
   "cell_type": "code",
   "execution_count": 83,
   "metadata": {},
   "outputs": [],
   "source": [
    "from sklearn.model_selection import train_test_split, cross_val_score\n",
    "from sklearn.feature_extraction.text import TfidfVectorizer\n",
    "from sklearn.naive_bayes import GaussianNB\n",
    "import warnings\n",
    "warnings.filterwarnings(\"ignore\")"
   ]
  },
  {
   "cell_type": "code",
   "execution_count": 84,
   "metadata": {},
   "outputs": [
    {
     "data": {
      "image/png": "[encoded data removed]",
      "text/plain": [
       "<Figure size 720x576 with 1 Axes>"
      ]
     },
     "metadata": {},
     "output_type": "display_data"
    }
   ],
   "source": [
    "plt.style.use('fivethirtyeight')\n",
    "plt.figure(figsize=(10,8))\n",
    "\n",
    "df_2 = df.groupby('Status').count()\n",
    "df_2.reset_index(inplace=True)\n",
    "ax = sns.barplot(x='Status', y='Body', data=df_2);\n",
    "ax.set_title('\\nHam and Spam Counts\\n', fontsize=25)\n",
    "\n",
    "values = df['Status'].value_counts()\n",
    "\n",
    "for i, p in enumerate(ax.patches):\n",
    "    height = p.get_height()\n",
    "    ax.text(p.get_x() + p.get_width() / 2, height, values[i], ha=\"center\")"
   ]
  },
  {
   "cell_type": "code",
   "execution_count": 88,
   "metadata": {},
   "outputs": [
    {
     "name": "stdout",
     "output_type": "stream",
     "text": [
      "\n",
      "total email count = 10342\n",
      "total spam count = 2998\n",
      "\n",
      "Probability that a chosen email is spam = 28.9886 %\n",
      "Probability that a chosen email is ham = 71.0114 %\n",
      "\n"
     ]
    }
   ],
   "source": [
    "df_len = len(df)\n",
    "mask = df['Status'] == 'spam'\n",
    "spam_ct = int(df['Status'].loc[mask].value_counts().values)\n",
    "\n",
    "print(f'\\ntotal email count = {df_len}\\ntotal spam count = {spam_ct}')\n",
    "print(f'\\nProbability that a chosen email is spam = {(spam_ct / df_len) * 100:.4f} %')\n",
    "print(f'Probability that a chosen email is ham = {((df_len - spam_ct) / df_len) * 100:.4f} %\\n')"
   ]
  },
  {
   "cell_type": "code",
   "execution_count": 94,
   "metadata": {},
   "outputs": [
    {
     "name": "stdout",
     "output_type": "stream",
     "text": [
      "\n",
      "rows, features/words:\n"
     ]
    },
    {
     "data": {
      "text/plain": [
       "(10342, 49349)"
      ]
     },
     "execution_count": 94,
     "metadata": {},
     "output_type": "execute_result"
    }
   ],
   "source": [
    "vectorizer = TfidfVectorizer(stop_words='english')\n",
    "vectorized_X = vectorizer.fit_transform(df['Body']) #vectorize all the text data\n",
    "\n",
    "print('\\nrows, features/words:')\n",
    "vectorized_X.todense().shape"
   ]
  },
  {
   "cell_type": "code",
   "execution_count": 96,
   "metadata": {},
   "outputs": [
    {
     "name": "stdout",
     "output_type": "stream",
     "text": [
      "(7756, 49349) (2586, 49349)\n"
     ]
    }
   ],
   "source": [
    "# split the vectorized text and labels\n",
    "train_x, test_x, train_y, test_y = train_test_split(vectorized_X, df[\"Status\"]) \n",
    "\n",
    "print(train_x.shape, test_x.shape)"
   ]
  },
  {
   "cell_type": "code",
   "execution_count": 98,
   "metadata": {},
   "outputs": [
    {
     "ename": "MemoryError",
     "evalue": "Unable to allocate 283. GiB for an array with shape (156816, 36, 53806) and data type uint8",
     "output_type": "error",
     "traceback": [
      "\u001b[1;31m---------------------------------------------------------------------------\u001b[0m",
      "\u001b[1;31mMemoryError\u001b[0m                               Traceback (most recent call last)",
      "\u001b[1;32m<ipython-input-98-60e34d1dfa18>\u001b[0m in \u001b[0;36m<module>\u001b[1;34m\u001b[0m\n\u001b[1;32m----> 1\u001b[1;33m \u001b[0ma\u001b[0m \u001b[1;33m=\u001b[0m \u001b[0mnp\u001b[0m\u001b[1;33m.\u001b[0m\u001b[0mzeros\u001b[0m\u001b[1;33m(\u001b[0m\u001b[1;33m(\u001b[0m\u001b[1;36m156816\u001b[0m\u001b[1;33m,\u001b[0m \u001b[1;36m36\u001b[0m\u001b[1;33m,\u001b[0m \u001b[1;36m53806\u001b[0m\u001b[1;33m)\u001b[0m\u001b[1;33m,\u001b[0m \u001b[0mdtype\u001b[0m\u001b[1;33m=\u001b[0m\u001b[1;34m'uint8'\u001b[0m\u001b[1;33m)\u001b[0m\u001b[1;33m\u001b[0m\u001b[1;33m\u001b[0m\u001b[0m\n\u001b[0m\u001b[0;32m      2\u001b[0m \u001b[0ma\u001b[0m\u001b[1;33m.\u001b[0m\u001b[0mnbytes\u001b[0m\u001b[1;33m\u001b[0m\u001b[1;33m\u001b[0m\u001b[0m\n",
      "\u001b[1;31mMemoryError\u001b[0m: Unable to allocate 283. GiB for an array with shape (156816, 36, 53806) and data type uint8"
     ]
    }
   ],
   "source": [
    "a = np.zeros((156816, 36, 53806), dtype='uint8')\n",
    "a.nbytes"
   ]
  },
  {
   "cell_type": "code",
   "execution_count": 97,
   "metadata": {},
   "outputs": [
    {
     "ename": "MemoryError",
     "evalue": "Unable to allocate 2.85 GiB for an array with shape (7756, 49349) and data type float64",
     "output_type": "error",
     "traceback": [
      "\u001b[1;31m---------------------------------------------------------------------------\u001b[0m",
      "\u001b[1;31mMemoryError\u001b[0m                               Traceback (most recent call last)",
      "\u001b[1;32m<ipython-input-97-b2916a1785e1>\u001b[0m in \u001b[0;36m<module>\u001b[1;34m\u001b[0m\n\u001b[0;32m      2\u001b[0m \u001b[1;33m\u001b[0m\u001b[0m\n\u001b[0;32m      3\u001b[0m \u001b[1;31m# train Gaussian Naive Bayes model\u001b[0m\u001b[1;33m\u001b[0m\u001b[1;33m\u001b[0m\u001b[1;33m\u001b[0m\u001b[0m\n\u001b[1;32m----> 4\u001b[1;33m \u001b[0mclassifier\u001b[0m\u001b[1;33m.\u001b[0m\u001b[0mfit\u001b[0m\u001b[1;33m(\u001b[0m\u001b[0mtrain_x\u001b[0m\u001b[1;33m.\u001b[0m\u001b[0mtodense\u001b[0m\u001b[1;33m(\u001b[0m\u001b[1;33m)\u001b[0m\u001b[1;33m,\u001b[0m \u001b[0mtrain_y\u001b[0m\u001b[1;33m)\u001b[0m\u001b[1;33m\u001b[0m\u001b[1;33m\u001b[0m\u001b[0m\n\u001b[0m",
      "\u001b[1;32m~\\Anaconda3\\envs\\project-env\\lib\\site-packages\\sklearn\\naive_bayes.py\u001b[0m in \u001b[0;36mfit\u001b[1;34m(self, X, y, sample_weight)\u001b[0m\n\u001b[0;32m    208\u001b[0m         \u001b[0my\u001b[0m \u001b[1;33m=\u001b[0m \u001b[0mcolumn_or_1d\u001b[0m\u001b[1;33m(\u001b[0m\u001b[0my\u001b[0m\u001b[1;33m,\u001b[0m \u001b[0mwarn\u001b[0m\u001b[1;33m=\u001b[0m\u001b[1;32mTrue\u001b[0m\u001b[1;33m)\u001b[0m\u001b[1;33m\u001b[0m\u001b[1;33m\u001b[0m\u001b[0m\n\u001b[0;32m    209\u001b[0m         return self._partial_fit(X, y, np.unique(y), _refit=True,\n\u001b[1;32m--> 210\u001b[1;33m                                  sample_weight=sample_weight)\n\u001b[0m\u001b[0;32m    211\u001b[0m \u001b[1;33m\u001b[0m\u001b[0m\n\u001b[0;32m    212\u001b[0m     \u001b[1;32mdef\u001b[0m \u001b[0m_check_X\u001b[0m\u001b[1;33m(\u001b[0m\u001b[0mself\u001b[0m\u001b[1;33m,\u001b[0m \u001b[0mX\u001b[0m\u001b[1;33m)\u001b[0m\u001b[1;33m:\u001b[0m\u001b[1;33m\u001b[0m\u001b[1;33m\u001b[0m\u001b[0m\n",
      "\u001b[1;32m~\\Anaconda3\\envs\\project-env\\lib\\site-packages\\sklearn\\naive_bayes.py\u001b[0m in \u001b[0;36m_partial_fit\u001b[1;34m(self, X, y, classes, _refit, sample_weight)\u001b[0m\n\u001b[0;32m    367\u001b[0m         \u001b[1;31m# boost the variance by epsilon, a small fraction of the standard\u001b[0m\u001b[1;33m\u001b[0m\u001b[1;33m\u001b[0m\u001b[1;33m\u001b[0m\u001b[0m\n\u001b[0;32m    368\u001b[0m         \u001b[1;31m# deviation of the largest dimension.\u001b[0m\u001b[1;33m\u001b[0m\u001b[1;33m\u001b[0m\u001b[1;33m\u001b[0m\u001b[0m\n\u001b[1;32m--> 369\u001b[1;33m         \u001b[0mself\u001b[0m\u001b[1;33m.\u001b[0m\u001b[0mepsilon_\u001b[0m \u001b[1;33m=\u001b[0m \u001b[0mself\u001b[0m\u001b[1;33m.\u001b[0m\u001b[0mvar_smoothing\u001b[0m \u001b[1;33m*\u001b[0m \u001b[0mnp\u001b[0m\u001b[1;33m.\u001b[0m\u001b[0mvar\u001b[0m\u001b[1;33m(\u001b[0m\u001b[0mX\u001b[0m\u001b[1;33m,\u001b[0m \u001b[0maxis\u001b[0m\u001b[1;33m=\u001b[0m\u001b[1;36m0\u001b[0m\u001b[1;33m)\u001b[0m\u001b[1;33m.\u001b[0m\u001b[0mmax\u001b[0m\u001b[1;33m(\u001b[0m\u001b[1;33m)\u001b[0m\u001b[1;33m\u001b[0m\u001b[1;33m\u001b[0m\u001b[0m\n\u001b[0m\u001b[0;32m    370\u001b[0m \u001b[1;33m\u001b[0m\u001b[0m\n\u001b[0;32m    371\u001b[0m         \u001b[1;32mif\u001b[0m \u001b[0m_refit\u001b[0m\u001b[1;33m:\u001b[0m\u001b[1;33m\u001b[0m\u001b[1;33m\u001b[0m\u001b[0m\n",
      "\u001b[1;32m<__array_function__ internals>\u001b[0m in \u001b[0;36mvar\u001b[1;34m(*args, **kwargs)\u001b[0m\n",
      "\u001b[1;32m~\\Anaconda3\\envs\\project-env\\lib\\site-packages\\numpy\\core\\fromnumeric.py\u001b[0m in \u001b[0;36mvar\u001b[1;34m(a, axis, dtype, out, ddof, keepdims, where)\u001b[0m\n\u001b[0;32m   3701\u001b[0m \u001b[1;33m\u001b[0m\u001b[0m\n\u001b[0;32m   3702\u001b[0m     return _methods._var(a, axis=axis, dtype=dtype, out=out, ddof=ddof,\n\u001b[1;32m-> 3703\u001b[1;33m                          **kwargs)\n\u001b[0m\u001b[0;32m   3704\u001b[0m \u001b[1;33m\u001b[0m\u001b[0m\n\u001b[0;32m   3705\u001b[0m \u001b[1;33m\u001b[0m\u001b[0m\n",
      "\u001b[1;32m~\\Anaconda3\\envs\\project-env\\lib\\site-packages\\numpy\\core\\_methods.py\u001b[0m in \u001b[0;36m_var\u001b[1;34m(a, axis, dtype, out, ddof, keepdims, where)\u001b[0m\n\u001b[0;32m    227\u001b[0m     \u001b[1;31m# Note that x may not be inexact and that we need it to be an array,\u001b[0m\u001b[1;33m\u001b[0m\u001b[1;33m\u001b[0m\u001b[1;33m\u001b[0m\u001b[0m\n\u001b[0;32m    228\u001b[0m     \u001b[1;31m# not a scalar.\u001b[0m\u001b[1;33m\u001b[0m\u001b[1;33m\u001b[0m\u001b[1;33m\u001b[0m\u001b[0m\n\u001b[1;32m--> 229\u001b[1;33m     \u001b[0mx\u001b[0m \u001b[1;33m=\u001b[0m \u001b[0masanyarray\u001b[0m\u001b[1;33m(\u001b[0m\u001b[0marr\u001b[0m \u001b[1;33m-\u001b[0m \u001b[0marrmean\u001b[0m\u001b[1;33m)\u001b[0m\u001b[1;33m\u001b[0m\u001b[1;33m\u001b[0m\u001b[0m\n\u001b[0m\u001b[0;32m    230\u001b[0m \u001b[1;33m\u001b[0m\u001b[0m\n\u001b[0;32m    231\u001b[0m     \u001b[1;32mif\u001b[0m \u001b[0missubclass\u001b[0m\u001b[1;33m(\u001b[0m\u001b[0marr\u001b[0m\u001b[1;33m.\u001b[0m\u001b[0mdtype\u001b[0m\u001b[1;33m.\u001b[0m\u001b[0mtype\u001b[0m\u001b[1;33m,\u001b[0m \u001b[1;33m(\u001b[0m\u001b[0mnt\u001b[0m\u001b[1;33m.\u001b[0m\u001b[0mfloating\u001b[0m\u001b[1;33m,\u001b[0m \u001b[0mnt\u001b[0m\u001b[1;33m.\u001b[0m\u001b[0minteger\u001b[0m\u001b[1;33m)\u001b[0m\u001b[1;33m)\u001b[0m\u001b[1;33m:\u001b[0m\u001b[1;33m\u001b[0m\u001b[1;33m\u001b[0m\u001b[0m\n",
      "\u001b[1;31mMemoryError\u001b[0m: Unable to allocate 2.85 GiB for an array with shape (7756, 49349) and data type float64"
     ]
    }
   ],
   "source": [
    "classifier = GaussianNB()\n",
    "\n",
    "# train Gaussian Naive Bayes model\n",
    "classifier.fit(train_x.todense(), train_y) "
   ]
  },
  {
   "cell_type": "markdown",
   "metadata": {},
   "source": [
    "## 4. What is the longest ham email? ( 1 pt )\n",
    "---"
   ]
  },
  {
   "cell_type": "code",
   "execution_count": null,
   "metadata": {},
   "outputs": [],
   "source": [
    "df['email_len'] = df[['Body']].sum(axis=1).str.len()\n",
    "df.sort_values(by=['email_len'], ascending=False).head(1)"
   ]
  }
 ],
 "metadata": {
  "kernelspec": {
   "display_name": "Python 3",
   "language": "python",
   "name": "python3"
  },
  "language_info": {
   "codemirror_mode": {
    "name": "ipython",
    "version": 3
   },
   "file_extension": ".py",
   "mimetype": "text/x-python",
   "name": "python",
   "nbconvert_exporter": "python",
   "pygments_lexer": "ipython3",
   "version": "3.7.10"
  }
 },
 "nbformat": 4,
 "nbformat_minor": 4
}
