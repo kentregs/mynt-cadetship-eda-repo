{
 "cells": [
  {
   "cell_type": "markdown",
   "metadata": {},
   "source": [
    "# Problem Set 3 CS129.18\n",
    "\n",
    "The following problem set will revolve around the Enron Emails dataset.\n",
    "The dataset `data/enron-data/` directory has 6 files. The objective is to build a classifier for whether email is spam or not.\n"
   ]
  },
  {
   "cell_type": "markdown",
   "metadata": {},
   "source": [
    "## Requirements\n",
    "\n",
    "\n",
    ">Spam or Ham?\n",
    "\n",
    "Using the lessons on Naive Bayes and TF-IDF, and the other resource notebooks, show the following in this Jupyter Notebook.\n",
    "\n",
    "Write your answers down as Markdown cells or comments in the code.\n",
    "\n",
    "**Using Enron 1 and 2**\n",
    "\n",
    "1. How many Spam Emails are there? ( 1 pt )\n",
    "\n",
    "2. Structure the email data from the 2 directories into 1 dataframe with columns: Status, Subject, Body ( 7 pts )\n",
    "\n",
    "3. Build a Naive Bayes classifier to classify whether emails are spam or not. ( 3 pts )\n",
    "\n",
    "4. What is the longest ham email? ( 1 pt )\n",
    "\n",
    "5. What is the accuracy of your model?( 1 pt )\n",
    "\n",
    "6. Include the Subject in the analysis of the emails, does the accuracy/performance of the model increase? (7 pts)\n",
    "\n",
    "\n",
    "\n",
    "-----\n",
    "\n",
    "\n",
    "Bonus : Answer questions 1-6 using Enron 1,2, and 3. (5 pts)\n",
    "\n",
    "----\n",
    "\n",
    "**Submit this file on Moodle on the submission link I will provide. This is due October 18 12nn.**"
   ]
  },
  {
   "cell_type": "code",
   "execution_count": 1,
   "metadata": {},
   "outputs": [],
   "source": [
    "%matplotlib inline\n",
    "\n",
    "import matplotlib.pylab as plt\n",
    "# import matplotlib.pyplot as plt\n",
    "import numpy as np\n",
    "import pandas as pd\n",
    "import seaborn as sns\n",
    "import os\n",
    "import random"
   ]
  },
  {
   "cell_type": "code",
   "execution_count": 2,
   "metadata": {},
   "outputs": [
    {
     "name": "stdout",
     "output_type": "stream",
     "text": [
      "data/enron-data/enron1 ['ham', 'spam'] 2\n",
      "data/enron-data/enron1\\ham [] 3672\n",
      "data/enron-data/enron1\\spam [] 1499\n"
     ]
    }
   ],
   "source": [
    "rootdir = \"data/enron-data/enron1\"\n",
    "# Loop through all the directories, sub directories and files in the above folder, and print them.\n",
    "for directories, subdirs, files in os.walk(rootdir):\n",
    "    print(directories, subdirs, len(files))"
   ]
  },
  {
   "cell_type": "code",
   "execution_count": 3,
   "metadata": {},
   "outputs": [],
   "source": [
    "ham_list = []\n",
    "spam_list = []\n",
    "\n",
    "# Same as before, but this time, read the files, and append them to the ham and spam list\n",
    "for directories, subdirs, files in os.walk(rootdir):\n",
    "    if (os.path.split(directories)[1]  == 'ham'):\n",
    "        for filename in files:      \n",
    "            with open(os.path.join(directories, filename), encoding=\"latin-1\") as f:\n",
    "                data = f.read()\n",
    "                ham_list.append(data)\n",
    "    \n",
    "    if (os.path.split(directories)[1]  == 'spam'):\n",
    "        for filename in files:\n",
    "            with open(os.path.join(directories, filename), encoding=\"latin-1\") as f:\n",
    "                data = f.read()\n",
    "                spam_list.append(data)"
   ]
  },
  {
   "cell_type": "code",
   "execution_count": 4,
   "metadata": {},
   "outputs": [],
   "source": [
    "rootdir2 = \"data/enron-data/enron1\"\n",
    "\n",
    "ham_list2 = []\n",
    "spam_list2 = []\n",
    "\n",
    "# Same as before, but this time, read the files, and append them to the ham and spam list\n",
    "for directories, subdirs, files in os.walk(rootdir2):\n",
    "    if (os.path.split(directories)[1]  == 'ham'):\n",
    "        for filename in files:      \n",
    "            with open(os.path.join(directories, filename), encoding=\"latin-1\") as f:\n",
    "                data = f.read()\n",
    "                ham_list2.append(data)\n",
    "    \n",
    "    if (os.path.split(directories)[1]  == 'spam'):\n",
    "        for filename in files:\n",
    "            with open(os.path.join(directories, filename), encoding=\"latin-1\") as f:\n",
    "                data = f.read()\n",
    "                spam_list2.append(data)"
   ]
  },
  {
   "cell_type": "code",
   "execution_count": 5,
   "metadata": {},
   "outputs": [
    {
     "name": "stdout",
     "output_type": "stream",
     "text": [
      "Subject: christmas tree farm pictures\n",
      "\n"
     ]
    }
   ],
   "source": [
    "print(ham_list[0])"
   ]
  },
  {
   "cell_type": "code",
   "execution_count": 6,
   "metadata": {},
   "outputs": [
    {
     "name": "stdout",
     "output_type": "stream",
     "text": [
      "Subject: dobmeos with hgh my energy level has gone up ! stukm\n",
      "introducing\n",
      "doctor - formulated\n",
      "hgh\n",
      "human growth hormone - also called hgh\n",
      "is referred to in medical science as the master hormone . it is very plentiful\n",
      "when we are young , but near the age of twenty - one our bodies begin to produce\n",
      "less of it . by the time we are forty nearly everyone is deficient in hgh ,\n",
      "and at eighty our production has normally diminished at least 90 - 95 % .\n",
      "advantages of hgh :\n",
      "- increased muscle strength\n",
      "- loss in body fat\n",
      "- increased bone density\n",
      "- lower blood pressure\n",
      "- quickens wound healing\n",
      "- reduces cellulite\n",
      "- improved vision\n",
      "- wrinkle disappearance\n",
      "- increased skin thickness texture\n",
      "- increased energy levels\n",
      "- improved sleep and emotional stability\n",
      "- improved memory and mental alertness\n",
      "- increased sexual potency\n",
      "- resistance to common illness\n",
      "- strengthened heart muscle\n",
      "- controlled cholesterol\n",
      "- controlled mood swings\n",
      "- new hair growth and color restore\n",
      "read\n",
      "more at this website\n",
      "unsubscribe\n",
      "\n"
     ]
    }
   ],
   "source": [
    "print(spam_list[0])"
   ]
  },
  {
   "cell_type": "markdown",
   "metadata": {},
   "source": [
    "## 1. How many Spam Emails are there? ( 1 pt )\n",
    "---"
   ]
  },
  {
   "cell_type": "code",
   "execution_count": 7,
   "metadata": {},
   "outputs": [
    {
     "name": "stdout",
     "output_type": "stream",
     "text": [
      "\n",
      "There are <2998> spam emails in the enron1 and enron2 directories.\n"
     ]
    }
   ],
   "source": [
    "enron1_num_spam_emails = len(spam_list)\n",
    "enron2_num_spam_emails = len(spam_list2)\n",
    "total_spam_emails = enron1_num_spam_emails + enron2_num_spam_emails\n",
    "\n",
    "print(f'\\nThere are <{total_spam_emails}> spam emails in the enron1 and enron2 directories.')"
   ]
  },
  {
   "cell_type": "markdown",
   "metadata": {},
   "source": [
    "## 2. Structure the email data from the 2 directories into 1 dataframe with columns: Status, Subject, Body ( 7 pts )\n",
    "---"
   ]
  },
  {
   "cell_type": "code",
   "execution_count": 24,
   "metadata": {},
   "outputs": [
    {
     "name": "stdout",
     "output_type": "stream",
     "text": [
      "\n",
      "The longest spam email has a length of 31817\n",
      "\n"
     ]
    },
    {
     "data": {
      "text/html": [
       "<div>\n",
       "<style scoped>\n",
       "    .dataframe tbody tr th:only-of-type {\n",
       "        vertical-align: middle;\n",
       "    }\n",
       "\n",
       "    .dataframe tbody tr th {\n",
       "        vertical-align: top;\n",
       "    }\n",
       "\n",
       "    .dataframe thead th {\n",
       "        text-align: right;\n",
       "    }\n",
       "</style>\n",
       "<table border=\"1\" class=\"dataframe\">\n",
       "  <thead>\n",
       "    <tr style=\"text-align: right;\">\n",
       "      <th></th>\n",
       "      <th>Status</th>\n",
       "      <th>Subject</th>\n",
       "      <th>Body</th>\n",
       "    </tr>\n",
       "  </thead>\n",
       "  <tbody>\n",
       "    <tr>\n",
       "      <th>7690</th>\n",
       "      <td>ham</td>\n",
       "      <td>eastrans nomination - gas day 6 / 22 / 2000</td>\n",
       "      <td>- - - - - - - - - - - - - - - - - - - - - - fo...</td>\n",
       "    </tr>\n",
       "    <tr>\n",
       "      <th>4918</th>\n",
       "      <td>ham</td>\n",
       "      <td>spot deals</td>\n",
       "      <td>i have created and entered the following deals...</td>\n",
       "    </tr>\n",
       "    <tr>\n",
       "      <th>5288</th>\n",
       "      <td>ham</td>\n",
       "      <td>hpl meter # 980070 rusk d / p - lone star hpl</td>\n",
       "      <td>daren : during the period of 11 / 4 / 99 to 12...</td>\n",
       "    </tr>\n",
       "    <tr>\n",
       "      <th>5181</th>\n",
       "      <td>ham</td>\n",
       "      <td>re : spinnaker - supply verification 11958 su...</td>\n",
       "      <td>production fyi . bob - - - - - - - - - - - - -...</td>\n",
       "    </tr>\n",
       "    <tr>\n",
       "      <th>1286</th>\n",
       "      <td>spam</td>\n",
       "      <td>inexplicable crying spells , sadness and / or...</td>\n",
       "      <td>- - - - 22037566626923367 hi varou , setting s...</td>\n",
       "    </tr>\n",
       "    <tr>\n",
       "      <th>6983</th>\n",
       "      <td>ham</td>\n",
       "      <td>re : lst rev feb . 2000 josey ranch nom</td>\n",
       "      <td>daren i since you were at the offsite i went a...</td>\n",
       "    </tr>\n",
       "    <tr>\n",
       "      <th>7110</th>\n",
       "      <td>ham</td>\n",
       "      <td>amoco energy 2 / 00</td>\n",
       "      <td>daren : you put this in , do have a clue ? jul...</td>\n",
       "    </tr>\n",
       "    <tr>\n",
       "      <th>4417</th>\n",
       "      <td>ham</td>\n",
       "      <td>enron actuals for august 17 , 2000</td>\n",
       "      <td>teco tap 120 . 000 / iferc 20 . 000 / enron ls...</td>\n",
       "    </tr>\n",
       "    <tr>\n",
       "      <th>921</th>\n",
       "      <td>spam</td>\n",
       "      <td>how is your nervous pain</td>\n",
       "      <td>never agaln</td>\n",
       "    </tr>\n",
       "    <tr>\n",
       "      <th>4246</th>\n",
       "      <td>ham</td>\n",
       "      <td>hpl nomination changes for july 25 and july 26</td>\n",
       "      <td>july 26 final nom - - - 0 - - - inlet hpl @ ea...</td>\n",
       "    </tr>\n",
       "  </tbody>\n",
       "</table>\n",
       "</div>"
      ],
      "text/plain": [
       "     Status                                            Subject  \\\n",
       "7690    ham        eastrans nomination - gas day 6 / 22 / 2000   \n",
       "4918    ham                                         spot deals   \n",
       "5288    ham      hpl meter # 980070 rusk d / p - lone star hpl   \n",
       "5181    ham   re : spinnaker - supply verification 11958 su...   \n",
       "1286   spam   inexplicable crying spells , sadness and / or...   \n",
       "6983    ham            re : lst rev feb . 2000 josey ranch nom   \n",
       "7110    ham                                amoco energy 2 / 00   \n",
       "4417    ham                 enron actuals for august 17 , 2000   \n",
       "921    spam                           how is your nervous pain   \n",
       "4246    ham     hpl nomination changes for july 25 and july 26   \n",
       "\n",
       "                                                   Body  \n",
       "7690  - - - - - - - - - - - - - - - - - - - - - - fo...  \n",
       "4918  i have created and entered the following deals...  \n",
       "5288  daren : during the period of 11 / 4 / 99 to 12...  \n",
       "5181  production fyi . bob - - - - - - - - - - - - -...  \n",
       "1286  - - - - 22037566626923367 hi varou , setting s...  \n",
       "6983  daren i since you were at the offsite i went a...  \n",
       "7110  daren : you put this in , do have a clue ? jul...  \n",
       "4417  teco tap 120 . 000 / iferc 20 . 000 / enron ls...  \n",
       "921                                         never agaln  \n",
       "4246  july 26 final nom - - - 0 - - - inlet hpl @ ea...  "
      ]
     },
     "execution_count": 24,
     "metadata": {},
     "output_type": "execute_result"
    }
   ],
   "source": [
    "import re\n",
    "\n",
    "# initialize an emopty dataframe\n",
    "df = pd.DataFrame()\n",
    "\n",
    "# initialize lists to be stored to the dataframe\n",
    "status_lst = []\n",
    "subject_lst = []\n",
    "body_lst = []\n",
    "\n",
    "# initialize complete list of spam emails and populate it with existing spam lists\n",
    "complete_spam_lst = []\n",
    "complete_spam_lst.extend(spam_list)\n",
    "complete_spam_lst.extend(spam_list2)\n",
    "\n",
    "# initialize complete list of ham emails and populate it with existing ham lists\n",
    "complete_ham_lst = []\n",
    "complete_ham_lst.extend(ham_list)\n",
    "complete_ham_lst.extend(ham_list2)\n",
    "\n",
    "# initialize regex pattern\n",
    "pattern_1 = re.compile('Subject:')\n",
    "\n",
    "# initialize empty string variables for the body data of spam and ham emails\n",
    "spam_str = ''\n",
    "ham_str = ''\n",
    "\n",
    "# parse complete spam list for subject and body data\n",
    "for spam in complete_spam_lst:\n",
    "    # split each list item to lines \n",
    "    spam_lines = spam.splitlines()\n",
    "    \n",
    "    # parse the email's body data by aggregating all lines after index 0 \n",
    "    # and convert them to a single string\n",
    "    spam_str = ' '.join(spam_lines[1:])\n",
    "    \n",
    "    for line in spam_lines:\n",
    "        if pattern_1.search(line):\n",
    "            line = line.strip('Subject:')\n",
    "            subject_lst.append(line)\n",
    "            # set status to spam\n",
    "            status_lst.append('spam')  \n",
    "            body_lst.append(spam_str)\n",
    "\n",
    "ceil_body = 0\n",
    "            \n",
    "# parse complete ham list for subject and body data\n",
    "for ham in complete_ham_lst:\n",
    "    # split each list item to lines \n",
    "    ham_lines = ham.splitlines()\n",
    "    \n",
    "    # parse the email's body data by aggregating all lines after index 0 \n",
    "    # and convert them to a single string\n",
    "    ham_str = ' '.join(ham_lines[1:])\n",
    "    \n",
    "    for line in ham_lines:\n",
    "        if pattern_1.search(line):\n",
    "            line = line.strip('Subject:')\n",
    "            subject_lst.append(line)\n",
    "            \n",
    "            # set status to ham\n",
    "            status_lst.append('ham')\n",
    "            body_lst.append(ham_str)\n",
    "            \n",
    "            # get longest ham email            \n",
    "            if len(ham_str) > ceil_body:\n",
    "                ceil_body = len(ham_str)\n",
    "            \n",
    "# append lists to their respective datframe columns\n",
    "df['Status'] = status_lst\n",
    "df['Subject'] = subject_lst\n",
    "df['Body'] = body_lst\n",
    "\n",
    "# display longest ham email\n",
    "print(f'\\nThe longest spam email has a length of <{ceil_body}\\n')\n",
    "\n",
    "# display 10 random rows\n",
    "df.sample(10)"
   ]
  },
  {
   "cell_type": "markdown",
   "metadata": {},
   "source": [
    "## 3. Build a Naive Bayes classifier to classify whether emails are spam or not. ( 3 pts )\n",
    "---"
   ]
  },
  {
   "cell_type": "code",
   "execution_count": 10,
   "metadata": {},
   "outputs": [],
   "source": [
    "from sklearn.model_selection import train_test_split, cross_val_score\n",
    "from sklearn.feature_extraction.text import TfidfVectorizer\n",
    "from sklearn.naive_bayes import GaussianNB\n",
    "import warnings\n",
    "warnings.filterwarnings(\"ignore\")"
   ]
  },
  {
   "cell_type": "code",
   "execution_count": 11,
   "metadata": {},
   "outputs": [
    {
     "data": {
      "image/png": "[encoded data removed]",
      "text/plain": [
       "<Figure size 720x576 with 1 Axes>"
      ]
     },
     "metadata": {},
     "output_type": "display_data"
    }
   ],
   "source": [
    "plt.style.use('fivethirtyeight')\n",
    "plt.figure(figsize=(10,8))\n",
    "\n",
    "df_2 = df.groupby('Status').count()\n",
    "df_2.reset_index(inplace=True)\n",
    "ax = sns.barplot(x='Status', y='Body', data=df_2);\n",
    "ax.set_title('\\nHam and Spam Counts\\n', fontsize=25)\n",
    "\n",
    "values = df['Status'].value_counts()\n",
    "\n",
    "for i, p in enumerate(ax.patches):\n",
    "    height = p.get_height()\n",
    "    ax.text(p.get_x() + p.get_width() / 2, height, values[i], ha=\"center\")"
   ]
  },
  {
   "cell_type": "code",
   "execution_count": 12,
   "metadata": {},
   "outputs": [
    {
     "name": "stdout",
     "output_type": "stream",
     "text": [
      "\n",
      "total email count = 10342\n",
      "total spam count = 2998\n",
      "\n",
      "Probability that a chosen email is spam = 28.9886 %\n",
      "Probability that a chosen email is ham = 71.0114 %\n",
      "\n"
     ]
    }
   ],
   "source": [
    "df_len = len(df)\n",
    "mask = df['Status'] == 'spam'\n",
    "spam_ct = int(df['Status'].loc[mask].value_counts().values)\n",
    "\n",
    "print(f'\\ntotal email count = {df_len}\\ntotal spam count = {spam_ct}')\n",
    "print(f'\\nProbability that a chosen email is spam = {(spam_ct / df_len) * 100:.4f} %')\n",
    "print(f'Probability that a chosen email is ham = {((df_len - spam_ct) / df_len) * 100:.4f} %\\n')"
   ]
  },
  {
   "cell_type": "code",
   "execution_count": 13,
   "metadata": {},
   "outputs": [
    {
     "name": "stdout",
     "output_type": "stream",
     "text": [
      "\n",
      "rows, features/words:\n"
     ]
    },
    {
     "data": {
      "text/plain": [
       "(10342, 49349)"
      ]
     },
     "execution_count": 13,
     "metadata": {},
     "output_type": "execute_result"
    }
   ],
   "source": [
    "# init tf-idf vectorizer\n",
    "vectorizer = TfidfVectorizer(stop_words='english')\n",
    "\n",
    "# vectorize all the body data\n",
    "vectorized_X = vectorizer.fit_transform(df['Body']) \n",
    "\n",
    "print('\\nrows, features/words:')\n",
    "vectorized_X.todense().shape"
   ]
  },
  {
   "cell_type": "code",
   "execution_count": 14,
   "metadata": {},
   "outputs": [
    {
     "name": "stdout",
     "output_type": "stream",
     "text": [
      "(7756, 49349) (2586, 49349)\n"
     ]
    }
   ],
   "source": [
    "# split the vectorized text and labels\n",
    "train_x, test_x, train_y, test_y = train_test_split(vectorized_X, df[\"Status\"]) \n",
    "\n",
    "print(train_x.shape, test_x.shape)"
   ]
  },
  {
   "cell_type": "code",
   "execution_count": 15,
   "metadata": {},
   "outputs": [
    {
     "data": {
      "text/plain": [
       "GaussianNB()"
      ]
     },
     "execution_count": 15,
     "metadata": {},
     "output_type": "execute_result"
    }
   ],
   "source": [
    "# init classifier\n",
    "classifier = GaussianNB()\n",
    "\n",
    "# train Gaussian Naive Bayes model\n",
    "classifier.fit(train_x.todense(), train_y) "
   ]
  },
  {
   "cell_type": "markdown",
   "metadata": {},
   "source": [
    "## 4. What is the longest ham email? ( 1 pt )\n",
    "---"
   ]
  },
  {
   "cell_type": "code",
   "execution_count": 16,
   "metadata": {},
   "outputs": [
    {
     "data": {
      "text/html": [
       "<div>\n",
       "<style scoped>\n",
       "    .dataframe tbody tr th:only-of-type {\n",
       "        vertical-align: middle;\n",
       "    }\n",
       "\n",
       "    .dataframe tbody tr th {\n",
       "        vertical-align: top;\n",
       "    }\n",
       "\n",
       "    .dataframe thead th {\n",
       "        text-align: right;\n",
       "    }\n",
       "</style>\n",
       "<table border=\"1\" class=\"dataframe\">\n",
       "  <thead>\n",
       "    <tr style=\"text-align: right;\">\n",
       "      <th></th>\n",
       "      <th>Status</th>\n",
       "      <th>Subject</th>\n",
       "      <th>Body</th>\n",
       "      <th>email_len</th>\n",
       "    </tr>\n",
       "  </thead>\n",
       "  <tbody>\n",
       "    <tr>\n",
       "      <th>6486</th>\n",
       "      <td>ham</td>\n",
       "      <td>fw : \" red , white and blue out \"</td>\n",
       "      <td>- - - - - original message - - - - - from : ca...</td>\n",
       "      <td>31817</td>\n",
       "    </tr>\n",
       "  </tbody>\n",
       "</table>\n",
       "</div>"
      ],
      "text/plain": [
       "     Status                             Subject  \\\n",
       "6486    ham   fw : \" red , white and blue out \"   \n",
       "\n",
       "                                                   Body  email_len  \n",
       "6486  - - - - - original message - - - - - from : ca...      31817  "
      ]
     },
     "execution_count": 16,
     "metadata": {},
     "output_type": "execute_result"
    }
   ],
   "source": [
    "mask = df['Status'] == 'ham'\n",
    "df['email_len'] = df[['Body']].sum(axis=1).str.len()\n",
    "\n",
    "df.loc[mask].sort_values(by=['email_len'], ascending=False).head(1)"
   ]
  },
  {
   "cell_type": "markdown",
   "metadata": {},
   "source": [
    "## 5. What is the accuracy of your model?( 1 pt )\n",
    "---"
   ]
  },
  {
   "cell_type": "code",
   "execution_count": 17,
   "metadata": {},
   "outputs": [
    {
     "data": {
      "text/plain": [
       "0.9702242846094354"
      ]
     },
     "execution_count": 17,
     "metadata": {},
     "output_type": "execute_result"
    }
   ],
   "source": [
    "classifier.score(test_x.toarray(), test_y)"
   ]
  },
  {
   "cell_type": "code",
   "execution_count": 18,
   "metadata": {},
   "outputs": [
    {
     "name": "stdout",
     "output_type": "stream",
     "text": [
      "Accuracy: 93.46 percent (+/- 0.00)\n"
     ]
    },
    {
     "data": {
      "text/plain": [
       "array([0.93271462, 0.93658159])"
      ]
     },
     "execution_count": 18,
     "metadata": {},
     "output_type": "execute_result"
    }
   ],
   "source": [
    "#use cross validation to see how well a gaussiannb classifier would work on our data\n",
    "scores = cross_val_score(classifier, test_x.toarray(), test_y, cv=2)\n",
    "acc = scores.mean()\n",
    "print(\"Accuracy: %0.2f percent (+/- %0.2f)\" % (acc *100, scores.std()))\n",
    "scores"
   ]
  },
  {
   "cell_type": "markdown",
   "metadata": {},
   "source": [
    "## 6. Include the Subject in the analysis of the emails, does the accuracy/performance of the model increase? (7 pts)\n",
    "---"
   ]
  },
  {
   "cell_type": "code",
   "execution_count": 19,
   "metadata": {},
   "outputs": [
    {
     "name": "stdout",
     "output_type": "stream",
     "text": [
      "\n",
      "rows, features/words:\n"
     ]
    },
    {
     "data": {
      "text/plain": [
       "(10342, 54312)"
      ]
     },
     "execution_count": 19,
     "metadata": {},
     "output_type": "execute_result"
    }
   ],
   "source": [
    "from scipy.sparse import hstack\n",
    "\n",
    "# init tf-idf vectorizer\n",
    "vectorizer = TfidfVectorizer(stop_words='english')\n",
    "\n",
    "# vectorize body and subject data\n",
    "body_matrix = vectorizer.fit_transform(df['Body']) \n",
    "subj_matrix = vectorizer.fit_transform(df['Subject']) \n",
    "\n",
    "# Stack sparse matrices horizontally (column wise) \n",
    "vectorized_X = hstack((subj_matrix, body_matrix))\n",
    "\n",
    "# verify vectorized_X content\n",
    "print('\\nrows, features/words:')\n",
    "type(vectorized_X)\n",
    "\n",
    "# verify shape of csr_matrix\n",
    "vectorized_X.shape"
   ]
  },
  {
   "cell_type": "code",
   "execution_count": 20,
   "metadata": {},
   "outputs": [
    {
     "name": "stdout",
     "output_type": "stream",
     "text": [
      "(7756, 54312) (2586, 54312)\n"
     ]
    }
   ],
   "source": [
    "# split the vectorized text and labels\n",
    "train_x, test_x, train_y, test_y = train_test_split(vectorized_X, df[\"Status\"]) \n",
    "\n",
    "print(train_x.shape, test_x.shape)"
   ]
  },
  {
   "cell_type": "code",
   "execution_count": 21,
   "metadata": {},
   "outputs": [
    {
     "data": {
      "text/plain": [
       "GaussianNB()"
      ]
     },
     "execution_count": 21,
     "metadata": {},
     "output_type": "execute_result"
    }
   ],
   "source": [
    "# init classifier\n",
    "classifier = GaussianNB()\n",
    "\n",
    "# train Gaussian Naive Bayes model\n",
    "classifier.fit(train_x.todense(), train_y) "
   ]
  },
  {
   "cell_type": "code",
   "execution_count": 22,
   "metadata": {},
   "outputs": [
    {
     "data": {
      "text/plain": [
       "0.9860788863109049"
      ]
     },
     "execution_count": 22,
     "metadata": {},
     "output_type": "execute_result"
    }
   ],
   "source": [
    "classifier.score(test_x.toarray(), test_y)"
   ]
  },
  {
   "cell_type": "code",
   "execution_count": 23,
   "metadata": {},
   "outputs": [
    {
     "name": "stdout",
     "output_type": "stream",
     "text": [
      "Accuracy: 94.16 percent (+/- 0.00)\n"
     ]
    },
    {
     "data": {
      "text/plain": [
       "array([0.93967517, 0.94354215])"
      ]
     },
     "execution_count": 23,
     "metadata": {},
     "output_type": "execute_result"
    }
   ],
   "source": [
    "#use cross validation to see how well a gaussiannb classifier would work on our data\n",
    "scores = cross_val_score(classifier, test_x.toarray(), test_y, cv=2)\n",
    "acc = scores.mean()\n",
    "print(\"Accuracy: %0.2f percent (+/- %0.2f)\" % (acc *100, scores.std()))\n",
    "scores"
   ]
  }
 ],
 "metadata": {
  "kernelspec": {
   "display_name": "Python 3",
   "language": "python",
   "name": "python3"
  },
  "language_info": {
   "codemirror_mode": {
    "name": "ipython",
    "version": 3
   },
   "file_extension": ".py",
   "mimetype": "text/x-python",
   "name": "python",
   "nbconvert_exporter": "python",
   "pygments_lexer": "ipython3",
   "version": "3.9.2"
  }
 },
 "nbformat": 4,
 "nbformat_minor": 4
}
