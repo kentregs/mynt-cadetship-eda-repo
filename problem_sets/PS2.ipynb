{
 "cells": [
  {
   "cell_type": "markdown",
   "metadata": {},
   "source": [
    "# Problem Set 2 CS129.18\n",
    "\n",
    "The following problem set will revolve around the Pokemon stats dataset.\n",
    "The dataset `data/Pokemon.csv` has **721** rows and **27** columns. Not all columns are needed for the questions to be asked.\n"
   ]
  },
  {
   "cell_type": "markdown",
   "metadata": {},
   "source": [
    "## Requirements\n",
    "\n",
    "\n",
    ">Gotta catch 'em all.\n",
    "\n",
    "Using the lessons on Logistic Regression, and the other resource notebooks, show the following in this Jupyter Notebook.\n",
    "\n",
    "Write your answers down as Markdown cells or comments in the code.\n",
    "\n",
    "1. How many Legendary Pokemon are there? ( 1pt )\n",
    "\n",
    "2. Who is the Pokemon with the highest attack-to-HP ratio? (Tip: Just get the divide attack by HP) ( 3pts )\n",
    "\n",
    "3. Build a binary classifier for whether Pokemon are Fire Type or not. ( 4pts )\n",
    "\n",
    "4. Describe the attributes and stats of all Legendary Type pokemon using boxplots. ( 5pts )\n",
    "\n",
    "5. Solve for the probabilities of each Pokemon being a Fire Type. ( 2pts )\n",
    "\n",
    "6. What is the accuracy of your model?( 2pts )\n",
    "\n",
    "7. Apply upsampling for the minority class that is Fire Type and show the change in Accuracy and Precision. ( 3pts )\n",
    "\n",
    "\n",
    "\n",
    "-----\n",
    "\n",
    "\n",
    "Bonus 1 : What is the difference between machine learning and pattern recognition? (1pt)\n",
    "\n",
    "Bonus 2:  Who is your favorite Pokemon?\n",
    "\n",
    "----\n",
    "\n",
    "**Submit this file on Moodle on the submission link I will provide. This is due September 25 12nn.**"
   ]
  },
  {
   "cell_type": "code",
   "execution_count": 475,
   "metadata": {},
   "outputs": [],
   "source": [
    "%matplotlib inline\n",
    "\n",
    "import matplotlib.pylab as plt\n",
    "import numpy as np\n",
    "import pandas as pd\n",
    "import seaborn as sns"
   ]
  },
  {
   "cell_type": "code",
   "execution_count": 476,
   "metadata": {},
   "outputs": [],
   "source": [
    "df = pd.read_csv(\"data/Pokemon.csv\")"
   ]
  },
  {
   "cell_type": "code",
   "execution_count": 477,
   "metadata": {},
   "outputs": [
    {
     "data": {
      "text/html": [
       "<div>\n",
       "<style scoped>\n",
       "    .dataframe tbody tr th:only-of-type {\n",
       "        vertical-align: middle;\n",
       "    }\n",
       "\n",
       "    .dataframe tbody tr th {\n",
       "        vertical-align: top;\n",
       "    }\n",
       "\n",
       "    .dataframe thead th {\n",
       "        text-align: right;\n",
       "    }\n",
       "</style>\n",
       "<table border=\"1\" class=\"dataframe\">\n",
       "  <thead>\n",
       "    <tr style=\"text-align: right;\">\n",
       "      <th></th>\n",
       "      <th>Number</th>\n",
       "      <th>Name</th>\n",
       "      <th>Type_1</th>\n",
       "      <th>Type_2</th>\n",
       "      <th>Total</th>\n",
       "      <th>HP</th>\n",
       "      <th>Attack</th>\n",
       "      <th>Defense</th>\n",
       "      <th>Sp_Atk</th>\n",
       "      <th>Sp_Def</th>\n",
       "      <th>...</th>\n",
       "      <th>Color</th>\n",
       "      <th>hasGender</th>\n",
       "      <th>Pr_Male</th>\n",
       "      <th>Egg_Group_1</th>\n",
       "      <th>Egg_Group_2</th>\n",
       "      <th>hasMegaEvolution</th>\n",
       "      <th>Height_m</th>\n",
       "      <th>Weight_kg</th>\n",
       "      <th>Catch_Rate</th>\n",
       "      <th>Body_Style</th>\n",
       "    </tr>\n",
       "  </thead>\n",
       "  <tbody>\n",
       "    <tr>\n",
       "      <th>154</th>\n",
       "      <td>155</td>\n",
       "      <td>Cyndaquil</td>\n",
       "      <td>Fire</td>\n",
       "      <td>NaN</td>\n",
       "      <td>309</td>\n",
       "      <td>39</td>\n",
       "      <td>52</td>\n",
       "      <td>43</td>\n",
       "      <td>60</td>\n",
       "      <td>50</td>\n",
       "      <td>...</td>\n",
       "      <td>Yellow</td>\n",
       "      <td>True</td>\n",
       "      <td>0.875</td>\n",
       "      <td>Field</td>\n",
       "      <td>NaN</td>\n",
       "      <td>False</td>\n",
       "      <td>0.51</td>\n",
       "      <td>7.9</td>\n",
       "      <td>45</td>\n",
       "      <td>bipedal_tailless</td>\n",
       "    </tr>\n",
       "    <tr>\n",
       "      <th>673</th>\n",
       "      <td>674</td>\n",
       "      <td>Pancham</td>\n",
       "      <td>Fighting</td>\n",
       "      <td>NaN</td>\n",
       "      <td>348</td>\n",
       "      <td>67</td>\n",
       "      <td>82</td>\n",
       "      <td>62</td>\n",
       "      <td>46</td>\n",
       "      <td>48</td>\n",
       "      <td>...</td>\n",
       "      <td>White</td>\n",
       "      <td>True</td>\n",
       "      <td>0.500</td>\n",
       "      <td>Field</td>\n",
       "      <td>Human-Like</td>\n",
       "      <td>False</td>\n",
       "      <td>0.61</td>\n",
       "      <td>8.0</td>\n",
       "      <td>220</td>\n",
       "      <td>bipedal_tailed</td>\n",
       "    </tr>\n",
       "    <tr>\n",
       "      <th>448</th>\n",
       "      <td>449</td>\n",
       "      <td>Hippopotas</td>\n",
       "      <td>Ground</td>\n",
       "      <td>NaN</td>\n",
       "      <td>330</td>\n",
       "      <td>68</td>\n",
       "      <td>72</td>\n",
       "      <td>78</td>\n",
       "      <td>38</td>\n",
       "      <td>42</td>\n",
       "      <td>...</td>\n",
       "      <td>Brown</td>\n",
       "      <td>True</td>\n",
       "      <td>0.500</td>\n",
       "      <td>Field</td>\n",
       "      <td>NaN</td>\n",
       "      <td>False</td>\n",
       "      <td>0.79</td>\n",
       "      <td>49.5</td>\n",
       "      <td>140</td>\n",
       "      <td>quadruped</td>\n",
       "    </tr>\n",
       "    <tr>\n",
       "      <th>445</th>\n",
       "      <td>446</td>\n",
       "      <td>Munchlax</td>\n",
       "      <td>Normal</td>\n",
       "      <td>NaN</td>\n",
       "      <td>390</td>\n",
       "      <td>135</td>\n",
       "      <td>85</td>\n",
       "      <td>40</td>\n",
       "      <td>40</td>\n",
       "      <td>85</td>\n",
       "      <td>...</td>\n",
       "      <td>Black</td>\n",
       "      <td>True</td>\n",
       "      <td>0.875</td>\n",
       "      <td>Undiscovered</td>\n",
       "      <td>NaN</td>\n",
       "      <td>False</td>\n",
       "      <td>0.61</td>\n",
       "      <td>105.0</td>\n",
       "      <td>50</td>\n",
       "      <td>bipedal_tailless</td>\n",
       "    </tr>\n",
       "    <tr>\n",
       "      <th>585</th>\n",
       "      <td>586</td>\n",
       "      <td>Sawsbuck</td>\n",
       "      <td>Normal</td>\n",
       "      <td>Grass</td>\n",
       "      <td>475</td>\n",
       "      <td>80</td>\n",
       "      <td>100</td>\n",
       "      <td>70</td>\n",
       "      <td>60</td>\n",
       "      <td>70</td>\n",
       "      <td>...</td>\n",
       "      <td>Brown</td>\n",
       "      <td>True</td>\n",
       "      <td>0.500</td>\n",
       "      <td>Field</td>\n",
       "      <td>NaN</td>\n",
       "      <td>False</td>\n",
       "      <td>1.91</td>\n",
       "      <td>92.5</td>\n",
       "      <td>75</td>\n",
       "      <td>quadruped</td>\n",
       "    </tr>\n",
       "    <tr>\n",
       "      <th>376</th>\n",
       "      <td>377</td>\n",
       "      <td>Regirock</td>\n",
       "      <td>Rock</td>\n",
       "      <td>NaN</td>\n",
       "      <td>580</td>\n",
       "      <td>80</td>\n",
       "      <td>100</td>\n",
       "      <td>200</td>\n",
       "      <td>50</td>\n",
       "      <td>100</td>\n",
       "      <td>...</td>\n",
       "      <td>Brown</td>\n",
       "      <td>False</td>\n",
       "      <td>NaN</td>\n",
       "      <td>Undiscovered</td>\n",
       "      <td>NaN</td>\n",
       "      <td>False</td>\n",
       "      <td>1.70</td>\n",
       "      <td>230.0</td>\n",
       "      <td>3</td>\n",
       "      <td>bipedal_tailless</td>\n",
       "    </tr>\n",
       "    <tr>\n",
       "      <th>346</th>\n",
       "      <td>347</td>\n",
       "      <td>Anorith</td>\n",
       "      <td>Rock</td>\n",
       "      <td>Bug</td>\n",
       "      <td>355</td>\n",
       "      <td>45</td>\n",
       "      <td>95</td>\n",
       "      <td>50</td>\n",
       "      <td>40</td>\n",
       "      <td>50</td>\n",
       "      <td>...</td>\n",
       "      <td>Grey</td>\n",
       "      <td>True</td>\n",
       "      <td>0.875</td>\n",
       "      <td>Water_3</td>\n",
       "      <td>NaN</td>\n",
       "      <td>False</td>\n",
       "      <td>0.71</td>\n",
       "      <td>12.5</td>\n",
       "      <td>45</td>\n",
       "      <td>insectoid</td>\n",
       "    </tr>\n",
       "    <tr>\n",
       "      <th>166</th>\n",
       "      <td>167</td>\n",
       "      <td>Spinarak</td>\n",
       "      <td>Bug</td>\n",
       "      <td>Poison</td>\n",
       "      <td>250</td>\n",
       "      <td>40</td>\n",
       "      <td>60</td>\n",
       "      <td>40</td>\n",
       "      <td>40</td>\n",
       "      <td>40</td>\n",
       "      <td>...</td>\n",
       "      <td>Green</td>\n",
       "      <td>True</td>\n",
       "      <td>0.500</td>\n",
       "      <td>Bug</td>\n",
       "      <td>NaN</td>\n",
       "      <td>False</td>\n",
       "      <td>0.51</td>\n",
       "      <td>8.5</td>\n",
       "      <td>255</td>\n",
       "      <td>insectoid</td>\n",
       "    </tr>\n",
       "    <tr>\n",
       "      <th>187</th>\n",
       "      <td>188</td>\n",
       "      <td>Skiploom</td>\n",
       "      <td>Grass</td>\n",
       "      <td>Flying</td>\n",
       "      <td>340</td>\n",
       "      <td>55</td>\n",
       "      <td>45</td>\n",
       "      <td>50</td>\n",
       "      <td>45</td>\n",
       "      <td>65</td>\n",
       "      <td>...</td>\n",
       "      <td>Green</td>\n",
       "      <td>True</td>\n",
       "      <td>0.500</td>\n",
       "      <td>Fairy</td>\n",
       "      <td>Grass</td>\n",
       "      <td>False</td>\n",
       "      <td>0.61</td>\n",
       "      <td>1.0</td>\n",
       "      <td>120</td>\n",
       "      <td>bipedal_tailed</td>\n",
       "    </tr>\n",
       "    <tr>\n",
       "      <th>556</th>\n",
       "      <td>557</td>\n",
       "      <td>Dwebble</td>\n",
       "      <td>Bug</td>\n",
       "      <td>Rock</td>\n",
       "      <td>325</td>\n",
       "      <td>50</td>\n",
       "      <td>65</td>\n",
       "      <td>85</td>\n",
       "      <td>35</td>\n",
       "      <td>35</td>\n",
       "      <td>...</td>\n",
       "      <td>Red</td>\n",
       "      <td>True</td>\n",
       "      <td>0.500</td>\n",
       "      <td>Bug</td>\n",
       "      <td>Mineral</td>\n",
       "      <td>False</td>\n",
       "      <td>0.30</td>\n",
       "      <td>14.5</td>\n",
       "      <td>190</td>\n",
       "      <td>insectoid</td>\n",
       "    </tr>\n",
       "  </tbody>\n",
       "</table>\n",
       "<p>10 rows × 23 columns</p>\n",
       "</div>"
      ],
      "text/plain": [
       "     Number        Name    Type_1  Type_2  Total   HP  Attack  Defense  \\\n",
       "154     155   Cyndaquil      Fire     NaN    309   39      52       43   \n",
       "673     674     Pancham  Fighting     NaN    348   67      82       62   \n",
       "448     449  Hippopotas    Ground     NaN    330   68      72       78   \n",
       "445     446    Munchlax    Normal     NaN    390  135      85       40   \n",
       "585     586    Sawsbuck    Normal   Grass    475   80     100       70   \n",
       "376     377    Regirock      Rock     NaN    580   80     100      200   \n",
       "346     347     Anorith      Rock     Bug    355   45      95       50   \n",
       "166     167    Spinarak       Bug  Poison    250   40      60       40   \n",
       "187     188    Skiploom     Grass  Flying    340   55      45       50   \n",
       "556     557     Dwebble       Bug    Rock    325   50      65       85   \n",
       "\n",
       "     Sp_Atk  Sp_Def  ...   Color  hasGender  Pr_Male   Egg_Group_1  \\\n",
       "154      60      50  ...  Yellow       True    0.875         Field   \n",
       "673      46      48  ...   White       True    0.500         Field   \n",
       "448      38      42  ...   Brown       True    0.500         Field   \n",
       "445      40      85  ...   Black       True    0.875  Undiscovered   \n",
       "585      60      70  ...   Brown       True    0.500         Field   \n",
       "376      50     100  ...   Brown      False      NaN  Undiscovered   \n",
       "346      40      50  ...    Grey       True    0.875       Water_3   \n",
       "166      40      40  ...   Green       True    0.500           Bug   \n",
       "187      45      65  ...   Green       True    0.500         Fairy   \n",
       "556      35      35  ...     Red       True    0.500           Bug   \n",
       "\n",
       "     Egg_Group_2  hasMegaEvolution Height_m Weight_kg  Catch_Rate  \\\n",
       "154          NaN             False     0.51       7.9          45   \n",
       "673   Human-Like             False     0.61       8.0         220   \n",
       "448          NaN             False     0.79      49.5         140   \n",
       "445          NaN             False     0.61     105.0          50   \n",
       "585          NaN             False     1.91      92.5          75   \n",
       "376          NaN             False     1.70     230.0           3   \n",
       "346          NaN             False     0.71      12.5          45   \n",
       "166          NaN             False     0.51       8.5         255   \n",
       "187        Grass             False     0.61       1.0         120   \n",
       "556      Mineral             False     0.30      14.5         190   \n",
       "\n",
       "           Body_Style  \n",
       "154  bipedal_tailless  \n",
       "673    bipedal_tailed  \n",
       "448         quadruped  \n",
       "445  bipedal_tailless  \n",
       "585         quadruped  \n",
       "376  bipedal_tailless  \n",
       "346         insectoid  \n",
       "166         insectoid  \n",
       "187    bipedal_tailed  \n",
       "556         insectoid  \n",
       "\n",
       "[10 rows x 23 columns]"
      ]
     },
     "execution_count": 477,
     "metadata": {},
     "output_type": "execute_result"
    }
   ],
   "source": [
    "df.sample(10)"
   ]
  },
  {
   "cell_type": "markdown",
   "metadata": {},
   "source": [
    "## 1. How many Legendary Pokemon are there? ( 1pt )\n",
    "---"
   ]
  },
  {
   "cell_type": "code",
   "execution_count": 478,
   "metadata": {},
   "outputs": [
    {
     "name": "stdout",
     "output_type": "stream",
     "text": [
      "There are <46> legendary pokemons in this dataset!\n"
     ]
    }
   ],
   "source": [
    "mask = df['isLegendary']\n",
    "legendary_ctr = df['Name'].loc[mask].count()\n",
    "\n",
    "print(f'There are <{legendary_ctr}> legendary pokemons in this dataset!')"
   ]
  },
  {
   "cell_type": "code",
   "execution_count": 479,
   "metadata": {},
   "outputs": [
    {
     "name": "stdout",
     "output_type": "stream",
     "text": [
      "isLegendary\n",
      "False    675\n",
      "True      46\n",
      "Name: isLegendary, dtype: int64\n"
     ]
    }
   ],
   "source": [
    "print(df.groupby(['isLegendary'])['isLegendary'].count())"
   ]
  },
  {
   "cell_type": "markdown",
   "metadata": {},
   "source": [
    "## 2. Who is the Pokemon with the highest attack-to-HP ratio? (Tip: Just get the divide attack by HP) ( 3pts )\n",
    "---"
   ]
  },
  {
   "cell_type": "code",
   "execution_count": 480,
   "metadata": {},
   "outputs": [
    {
     "data": {
      "text/html": [
       "<div>\n",
       "<style scoped>\n",
       "    .dataframe tbody tr th:only-of-type {\n",
       "        vertical-align: middle;\n",
       "    }\n",
       "\n",
       "    .dataframe tbody tr th {\n",
       "        vertical-align: top;\n",
       "    }\n",
       "\n",
       "    .dataframe thead th {\n",
       "        text-align: right;\n",
       "    }\n",
       "</style>\n",
       "<table border=\"1\" class=\"dataframe\">\n",
       "  <thead>\n",
       "    <tr style=\"text-align: right;\">\n",
       "      <th></th>\n",
       "      <th>Name</th>\n",
       "      <th>HP</th>\n",
       "      <th>Attack</th>\n",
       "      <th>hpToAtkRatio</th>\n",
       "    </tr>\n",
       "  </thead>\n",
       "  <tbody>\n",
       "    <tr>\n",
       "      <th>291</th>\n",
       "      <td>Shedinja</td>\n",
       "      <td>1</td>\n",
       "      <td>90</td>\n",
       "      <td>90.000000</td>\n",
       "    </tr>\n",
       "    <tr>\n",
       "      <th>49</th>\n",
       "      <td>Diglett</td>\n",
       "      <td>10</td>\n",
       "      <td>55</td>\n",
       "      <td>5.500000</td>\n",
       "    </tr>\n",
       "    <tr>\n",
       "      <th>97</th>\n",
       "      <td>Krabby</td>\n",
       "      <td>30</td>\n",
       "      <td>105</td>\n",
       "      <td>3.500000</td>\n",
       "    </tr>\n",
       "    <tr>\n",
       "      <th>385</th>\n",
       "      <td>Deoxys</td>\n",
       "      <td>50</td>\n",
       "      <td>150</td>\n",
       "      <td>3.000000</td>\n",
       "    </tr>\n",
       "    <tr>\n",
       "      <th>139</th>\n",
       "      <td>Kabuto</td>\n",
       "      <td>30</td>\n",
       "      <td>80</td>\n",
       "      <td>2.666667</td>\n",
       "    </tr>\n",
       "    <tr>\n",
       "      <th>...</th>\n",
       "      <td>...</td>\n",
       "      <td>...</td>\n",
       "      <td>...</td>\n",
       "      <td>...</td>\n",
       "    </tr>\n",
       "    <tr>\n",
       "      <th>359</th>\n",
       "      <td>Wynaut</td>\n",
       "      <td>95</td>\n",
       "      <td>23</td>\n",
       "      <td>0.242105</td>\n",
       "    </tr>\n",
       "    <tr>\n",
       "      <th>201</th>\n",
       "      <td>Wobbuffet</td>\n",
       "      <td>190</td>\n",
       "      <td>33</td>\n",
       "      <td>0.173684</td>\n",
       "    </tr>\n",
       "    <tr>\n",
       "      <th>439</th>\n",
       "      <td>Happiny</td>\n",
       "      <td>100</td>\n",
       "      <td>5</td>\n",
       "      <td>0.050000</td>\n",
       "    </tr>\n",
       "    <tr>\n",
       "      <th>241</th>\n",
       "      <td>Blissey</td>\n",
       "      <td>255</td>\n",
       "      <td>10</td>\n",
       "      <td>0.039216</td>\n",
       "    </tr>\n",
       "    <tr>\n",
       "      <th>112</th>\n",
       "      <td>Chansey</td>\n",
       "      <td>250</td>\n",
       "      <td>5</td>\n",
       "      <td>0.020000</td>\n",
       "    </tr>\n",
       "  </tbody>\n",
       "</table>\n",
       "<p>721 rows × 4 columns</p>\n",
       "</div>"
      ],
      "text/plain": [
       "          Name   HP  Attack  hpToAtkRatio\n",
       "291   Shedinja    1      90     90.000000\n",
       "49     Diglett   10      55      5.500000\n",
       "97      Krabby   30     105      3.500000\n",
       "385     Deoxys   50     150      3.000000\n",
       "139     Kabuto   30      80      2.666667\n",
       "..         ...  ...     ...           ...\n",
       "359     Wynaut   95      23      0.242105\n",
       "201  Wobbuffet  190      33      0.173684\n",
       "439    Happiny  100       5      0.050000\n",
       "241    Blissey  255      10      0.039216\n",
       "112    Chansey  250       5      0.020000\n",
       "\n",
       "[721 rows x 4 columns]"
      ]
     },
     "execution_count": 480,
     "metadata": {},
     "output_type": "execute_result"
    }
   ],
   "source": [
    "df['hpToAtkRatio'] = df['Attack'] / df['HP']\n",
    "df[['Name', 'HP', 'Attack', 'hpToAtkRatio']].sort_values(by=['hpToAtkRatio'], ascending=False)"
   ]
  },
  {
   "cell_type": "markdown",
   "metadata": {},
   "source": [
    "## 3. Build a binary classifier for whether Pokemon are Fire Type or not. ( 4pts )\n",
    "---"
   ]
  },
  {
   "cell_type": "code",
   "execution_count": 481,
   "metadata": {},
   "outputs": [
    {
     "data": {
      "text/html": [
       "<div>\n",
       "<style scoped>\n",
       "    .dataframe tbody tr th:only-of-type {\n",
       "        vertical-align: middle;\n",
       "    }\n",
       "\n",
       "    .dataframe tbody tr th {\n",
       "        vertical-align: top;\n",
       "    }\n",
       "\n",
       "    .dataframe thead th {\n",
       "        text-align: right;\n",
       "    }\n",
       "</style>\n",
       "<table border=\"1\" class=\"dataframe\">\n",
       "  <thead>\n",
       "    <tr style=\"text-align: right;\">\n",
       "      <th></th>\n",
       "      <th>Name</th>\n",
       "      <th>Type_1</th>\n",
       "      <th>Type_2</th>\n",
       "      <th>isFireType</th>\n",
       "    </tr>\n",
       "  </thead>\n",
       "  <tbody>\n",
       "    <tr>\n",
       "      <th>0</th>\n",
       "      <td>Bulbasaur</td>\n",
       "      <td>Grass</td>\n",
       "      <td>Poison</td>\n",
       "      <td>False</td>\n",
       "    </tr>\n",
       "    <tr>\n",
       "      <th>1</th>\n",
       "      <td>Ivysaur</td>\n",
       "      <td>Grass</td>\n",
       "      <td>Poison</td>\n",
       "      <td>False</td>\n",
       "    </tr>\n",
       "    <tr>\n",
       "      <th>2</th>\n",
       "      <td>Venusaur</td>\n",
       "      <td>Grass</td>\n",
       "      <td>Poison</td>\n",
       "      <td>False</td>\n",
       "    </tr>\n",
       "    <tr>\n",
       "      <th>3</th>\n",
       "      <td>Charmander</td>\n",
       "      <td>Fire</td>\n",
       "      <td>NaN</td>\n",
       "      <td>True</td>\n",
       "    </tr>\n",
       "    <tr>\n",
       "      <th>4</th>\n",
       "      <td>Charmeleon</td>\n",
       "      <td>Fire</td>\n",
       "      <td>NaN</td>\n",
       "      <td>True</td>\n",
       "    </tr>\n",
       "    <tr>\n",
       "      <th>...</th>\n",
       "      <td>...</td>\n",
       "      <td>...</td>\n",
       "      <td>...</td>\n",
       "      <td>...</td>\n",
       "    </tr>\n",
       "    <tr>\n",
       "      <th>716</th>\n",
       "      <td>Yveltal</td>\n",
       "      <td>Dark</td>\n",
       "      <td>Flying</td>\n",
       "      <td>False</td>\n",
       "    </tr>\n",
       "    <tr>\n",
       "      <th>717</th>\n",
       "      <td>Zygarde</td>\n",
       "      <td>Dragon</td>\n",
       "      <td>Ground</td>\n",
       "      <td>False</td>\n",
       "    </tr>\n",
       "    <tr>\n",
       "      <th>718</th>\n",
       "      <td>Diancie</td>\n",
       "      <td>Rock</td>\n",
       "      <td>Fairy</td>\n",
       "      <td>False</td>\n",
       "    </tr>\n",
       "    <tr>\n",
       "      <th>719</th>\n",
       "      <td>Hoopa</td>\n",
       "      <td>Psychic</td>\n",
       "      <td>Ghost</td>\n",
       "      <td>False</td>\n",
       "    </tr>\n",
       "    <tr>\n",
       "      <th>720</th>\n",
       "      <td>Volcanion</td>\n",
       "      <td>Fire</td>\n",
       "      <td>Water</td>\n",
       "      <td>True</td>\n",
       "    </tr>\n",
       "  </tbody>\n",
       "</table>\n",
       "<p>721 rows × 4 columns</p>\n",
       "</div>"
      ],
      "text/plain": [
       "           Name   Type_1  Type_2  isFireType\n",
       "0     Bulbasaur    Grass  Poison       False\n",
       "1       Ivysaur    Grass  Poison       False\n",
       "2      Venusaur    Grass  Poison       False\n",
       "3    Charmander     Fire     NaN        True\n",
       "4    Charmeleon     Fire     NaN        True\n",
       "..          ...      ...     ...         ...\n",
       "716     Yveltal     Dark  Flying       False\n",
       "717     Zygarde   Dragon  Ground       False\n",
       "718     Diancie     Rock   Fairy       False\n",
       "719       Hoopa  Psychic   Ghost       False\n",
       "720   Volcanion     Fire   Water        True\n",
       "\n",
       "[721 rows x 4 columns]"
      ]
     },
     "execution_count": 481,
     "metadata": {},
     "output_type": "execute_result"
    }
   ],
   "source": [
    "# convert Type_1 and Type_2 entries to 'True' if == to 'Fire'. Else, convert to \"False\" \n",
    "\n",
    "df['isFireType'] = (df['Type_1'].eq('Fire')) | (df['Type_2'].eq('Fire'))\n",
    "df[['Name', 'Type_1', 'Type_2', 'isFireType']]"
   ]
  },
  {
   "cell_type": "code",
   "execution_count": 508,
   "metadata": {},
   "outputs": [],
   "source": []
  },
  {
   "cell_type": "markdown",
   "metadata": {},
   "source": [
    "## 4. Describe the attributes and stats of all Legendary Type pokemon using boxplots. ( 5pts )\n",
    "---"
   ]
  },
  {
   "cell_type": "code",
   "execution_count": 523,
   "metadata": {},
   "outputs": [
    {
     "data": {
      "text/plain": [
       "<AxesSubplot:>"
      ]
     },
     "execution_count": 523,
     "metadata": {},
     "output_type": "execute_result"
    },
    {
     "data": {
      "image/png": "[encoded data removed]",
      "text/plain": [
       "<Figure size 2160x720 with 1 Axes>"
      ]
     },
     "metadata": {},
     "output_type": "display_data"
    }
   ],
   "source": [
    "plt.style.use('fivethirtyeight')\n",
    "plt.figure(figsize=(30, 10))\n",
    "\n",
    "mask = df['isLegendary']\n",
    "dfl = df.loc[mask]\n",
    "dfl = dfl[[\"Attack\", \"Defense\", \"Sp_Atk\", \"Sp_Def\", \"Speed\", \"Weight_kg\", \"Height_m\"]]\n",
    "\n",
    "sns.boxplot(data = dfl)"
   ]
  },
  {
   "cell_type": "code",
   "execution_count": 522,
   "metadata": {},
   "outputs": [
    {
     "data": {
      "text/plain": [
       "<AxesSubplot:>"
      ]
     },
     "execution_count": 522,
     "metadata": {},
     "output_type": "execute_result"
    },
    {
     "data": {
      "image/png": "[encoded data removed]",
      "text/plain": [
       "<Figure size 2160x648 with 1 Axes>"
      ]
     },
     "metadata": {},
     "output_type": "display_data"
    }
   ],
   "source": [
    "plt.style.use('fivethirtyeight')\n",
    "plt.figure(figsize=(30, 9))\n",
    "\n",
    "mask = df['isLegendary'] == False\n",
    "dfnl = df.loc[mask]\n",
    "dfnl = dfnl[[\"Attack\", \"Defense\", \"Sp_Atk\", \"Sp_Def\", \"Speed\", \"Weight_kg\", \"Height_m\"]]\n",
    "sns.boxplot(data = dfnl)"
   ]
  },
  {
   "cell_type": "markdown",
   "metadata": {},
   "source": [
    "## 5. Solve for the probabilities of each Pokemon being a Fire Type. ( 2pts )\n",
    "---\n",
    "## 6. What is the accuracy of your model? ( 2pts )"
   ]
  },
  {
   "cell_type": "code",
   "execution_count": 483,
   "metadata": {},
   "outputs": [
    {
     "name": "stdout",
     "output_type": "stream",
     "text": [
      "\n",
      "Columns with NULL entries: ['Type_2', 'Pr_Male', 'Egg_Group_2']\n",
      "\n"
     ]
    }
   ],
   "source": [
    "# check which cols have NULL entries\n",
    "\n",
    "null_cols = df.columns[df.isna().any()].tolist()\n",
    "print(f'\\nColumns with NULL entries: {null_cols}\\n')"
   ]
  },
  {
   "cell_type": "code",
   "execution_count": 484,
   "metadata": {},
   "outputs": [
    {
     "data": {
      "text/plain": [
       "<AxesSubplot:>"
      ]
     },
     "execution_count": 484,
     "metadata": {},
     "output_type": "execute_result"
    },
    {
     "data": {
      "image/png": "[encoded data removed]",
      "text/plain": [
       "<Figure size 432x288 with 2 Axes>"
      ]
     },
     "metadata": {},
     "output_type": "display_data"
    }
   ],
   "source": [
    "sns.heatmap(df[[\"Attack\", \"Defense\", \"Sp_Atk\", \"Sp_Def\", \"Speed\", \"Weight_kg\", 'Total', 'Height_m']].corr())"
   ]
  },
  {
   "cell_type": "code",
   "execution_count": 485,
   "metadata": {},
   "outputs": [
    {
     "name": "stdout",
     "output_type": "stream",
     "text": [
      "\n",
      "Coefficient values: [[ 0.03064782 -0.00666959  0.05397643  0.00511607  0.01628875  0.00055906\n",
      "  -0.01611444]]\n",
      "\n",
      "Accuracy = 71.4286\n",
      "\n"
     ]
    }
   ],
   "source": [
    "from sklearn.linear_model import LogisticRegression\n",
    "from sklearn import metrics\n",
    "\n",
    "X = df[['Attack', 'Defense', 'Sp_Atk', 'Sp_Def', 'Speed', 'Weight_kg', 'Total']]\n",
    "\n",
    "logistic_model = LogisticRegression(class_weight=\"balanced\")\n",
    "logistic_model.fit(X, df[\"isFireType\"])\n",
    "\n",
    "predictions = logistic_model.predict(X)\n",
    "accuracy = metrics.accuracy_score(predictions, df[\"isFireType\"])\n",
    "\n",
    "print(f'\\nCoefficient values: {logistic_model.coef_}')\n",
    "print(f'\\nAccuracy = {accuracy * 100:.4f}\\n')"
   ]
  },
  {
   "cell_type": "code",
   "execution_count": 486,
   "metadata": {},
   "outputs": [
    {
     "name": "stdout",
     "output_type": "stream",
     "text": [
      "\n",
      "Probabilities of each pokemon being a Fire Type:\n",
      "\n"
     ]
    },
    {
     "data": {
      "text/html": [
       "<div>\n",
       "<style scoped>\n",
       "    .dataframe tbody tr th:only-of-type {\n",
       "        vertical-align: middle;\n",
       "    }\n",
       "\n",
       "    .dataframe tbody tr th {\n",
       "        vertical-align: top;\n",
       "    }\n",
       "\n",
       "    .dataframe thead th {\n",
       "        text-align: right;\n",
       "    }\n",
       "</style>\n",
       "<table border=\"1\" class=\"dataframe\">\n",
       "  <thead>\n",
       "    <tr style=\"text-align: right;\">\n",
       "      <th></th>\n",
       "      <th>Name</th>\n",
       "      <th>Type_1</th>\n",
       "      <th>Type_2</th>\n",
       "      <th>isFireType</th>\n",
       "      <th>pred</th>\n",
       "      <th>prob</th>\n",
       "    </tr>\n",
       "  </thead>\n",
       "  <tbody>\n",
       "    <tr>\n",
       "      <th>218</th>\n",
       "      <td>Magcargo</td>\n",
       "      <td>Fire</td>\n",
       "      <td>Rock</td>\n",
       "      <td>True</td>\n",
       "      <td>False</td>\n",
       "      <td>0.212511</td>\n",
       "    </tr>\n",
       "    <tr>\n",
       "      <th>554</th>\n",
       "      <td>Darmanitan</td>\n",
       "      <td>Fire</td>\n",
       "      <td>NaN</td>\n",
       "      <td>True</td>\n",
       "      <td>False</td>\n",
       "      <td>0.270358</td>\n",
       "    </tr>\n",
       "    <tr>\n",
       "      <th>36</th>\n",
       "      <td>Vulpix</td>\n",
       "      <td>Fire</td>\n",
       "      <td>NaN</td>\n",
       "      <td>True</td>\n",
       "      <td>False</td>\n",
       "      <td>0.397820</td>\n",
       "    </tr>\n",
       "    <tr>\n",
       "      <th>662</th>\n",
       "      <td>Talonflame</td>\n",
       "      <td>Fire</td>\n",
       "      <td>Flying</td>\n",
       "      <td>True</td>\n",
       "      <td>False</td>\n",
       "      <td>0.425407</td>\n",
       "    </tr>\n",
       "    <tr>\n",
       "      <th>635</th>\n",
       "      <td>Larvesta</td>\n",
       "      <td>Bug</td>\n",
       "      <td>Fire</td>\n",
       "      <td>True</td>\n",
       "      <td>False</td>\n",
       "      <td>0.432633</td>\n",
       "    </tr>\n",
       "    <tr>\n",
       "      <th>155</th>\n",
       "      <td>Quilava</td>\n",
       "      <td>Fire</td>\n",
       "      <td>NaN</td>\n",
       "      <td>True</td>\n",
       "      <td>True</td>\n",
       "      <td>0.581971</td>\n",
       "    </tr>\n",
       "    <tr>\n",
       "      <th>390</th>\n",
       "      <td>Monferno</td>\n",
       "      <td>Fire</td>\n",
       "      <td>Fighting</td>\n",
       "      <td>True</td>\n",
       "      <td>True</td>\n",
       "      <td>0.655535</td>\n",
       "    </tr>\n",
       "    <tr>\n",
       "      <th>156</th>\n",
       "      <td>Typhlosion</td>\n",
       "      <td>Fire</td>\n",
       "      <td>NaN</td>\n",
       "      <td>True</td>\n",
       "      <td>True</td>\n",
       "      <td>0.681117</td>\n",
       "    </tr>\n",
       "    <tr>\n",
       "      <th>322</th>\n",
       "      <td>Camerupt</td>\n",
       "      <td>Fire</td>\n",
       "      <td>Ground</td>\n",
       "      <td>True</td>\n",
       "      <td>True</td>\n",
       "      <td>0.790717</td>\n",
       "    </tr>\n",
       "    <tr>\n",
       "      <th>636</th>\n",
       "      <td>Volcarona</td>\n",
       "      <td>Bug</td>\n",
       "      <td>Fire</td>\n",
       "      <td>True</td>\n",
       "      <td>True</td>\n",
       "      <td>0.792361</td>\n",
       "    </tr>\n",
       "  </tbody>\n",
       "</table>\n",
       "</div>"
      ],
      "text/plain": [
       "           Name Type_1    Type_2  isFireType   pred      prob\n",
       "218    Magcargo   Fire      Rock        True  False  0.212511\n",
       "554  Darmanitan   Fire       NaN        True  False  0.270358\n",
       "36       Vulpix   Fire       NaN        True  False  0.397820\n",
       "662  Talonflame   Fire    Flying        True  False  0.425407\n",
       "635    Larvesta    Bug      Fire        True  False  0.432633\n",
       "155     Quilava   Fire       NaN        True   True  0.581971\n",
       "390    Monferno   Fire  Fighting        True   True  0.655535\n",
       "156  Typhlosion   Fire       NaN        True   True  0.681117\n",
       "322    Camerupt   Fire    Ground        True   True  0.790717\n",
       "636   Volcarona    Bug      Fire        True   True  0.792361"
      ]
     },
     "execution_count": 486,
     "metadata": {},
     "output_type": "execute_result"
    }
   ],
   "source": [
    "df[\"pred\"] = predictions\n",
    "prob =[x[1] for x in logistic_model.predict_proba(X)]\n",
    "\n",
    "df[\"prob\"] = prob\n",
    "selection = df[['Name', 'Type_1', 'Type_2', 'isFireType', 'pred', 'prob']]\n",
    "\n",
    "print('\\nProbabilities of each pokemon being a Fire Type:\\n')\n",
    "selection[(selection['isFireType'] == True)].sample(10).sort_values(by=['prob'])"
   ]
  },
  {
   "cell_type": "code",
   "execution_count": 487,
   "metadata": {},
   "outputs": [
    {
     "name": "stdout",
     "output_type": "stream",
     "text": [
      "\n",
      "Train Accuracy = 75.2525\n",
      "Test Accuracy = 66.4615\n",
      "\n"
     ]
    }
   ],
   "source": [
    "from sklearn.model_selection import train_test_split\n",
    "\n",
    "logistic_model = LogisticRegression(class_weight=\"balanced\")\n",
    "\n",
    "X_train, X_test, Y_train, Y_test = train_test_split(X, df['isFireType'], train_size = 0.55)\n",
    "\n",
    "logistic_model.fit(X_train, Y_train)\n",
    "pred_train = logistic_model.predict(X_train)\n",
    "pred_test =  logistic_model.predict(X_test)\n",
    "train_accuracy = metrics.accuracy_score(pred_train,Y_train)\n",
    "test_accuracy = metrics.accuracy_score(pred_test,Y_test)\n",
    "\n",
    "print(f'\\nTrain Accuracy = {train_accuracy * 100:.4f}')\n",
    "print(f'Test Accuracy = {test_accuracy * 100:.4f}\\n')"
   ]
  },
  {
   "cell_type": "code",
   "execution_count": 488,
   "metadata": {},
   "outputs": [
    {
     "name": "stdout",
     "output_type": "stream",
     "text": [
      "\n",
      "Accuracy: 66.4615\n",
      "Precision: 14.9123\n",
      "Recall: 58.6207\n",
      "\n"
     ]
    }
   ],
   "source": [
    "print(f'\\nAccuracy: {metrics.accuracy_score(Y_test, pred_test) * 100:.4f}')\n",
    "print(f'Precision: {metrics.precision_score(Y_test, pred_test) * 100:.4f}')\n",
    "print(f'Recall: {metrics.recall_score(Y_test, pred_test) * 100:.4f}\\n')"
   ]
  },
  {
   "cell_type": "code",
   "execution_count": 489,
   "metadata": {},
   "outputs": [
    {
     "data": {
      "text/plain": [
       "Text(0.5, 257.44, 'Predicted label')"
      ]
     },
     "execution_count": 489,
     "metadata": {},
     "output_type": "execute_result"
    },
    {
     "data": {
      "image/png": "[encoded data removed]",
      "text/plain": [
       "<Figure size 432x288 with 2 Axes>"
      ]
     },
     "metadata": {},
     "output_type": "display_data"
    }
   ],
   "source": [
    "from sklearn import metrics\n",
    "cnf_matrix = metrics.confusion_matrix(Y_train, pred_train)\n",
    "cnf_matrix\n",
    "\n",
    "class_names=[\"0\",\"1\"] # name  of classes\n",
    "fig, ax = plt.subplots()\n",
    "tick_marks = np.arange(len(class_names))\n",
    "plt.xticks(tick_marks, class_names)\n",
    "plt.yticks(tick_marks, class_names)\n",
    "# create heatmap\n",
    "sns.heatmap(pd.DataFrame(cnf_matrix), annot=True, cmap=\"YlGnBu\" ,fmt='g')\n",
    "ax.xaxis.set_label_position(\"top\")\n",
    "plt.tight_layout()\n",
    "plt.title('Confusion matrix', y=1.1)\n",
    "plt.ylabel('Actual label')\n",
    "plt.xlabel('Predicted label')"
   ]
  },
  {
   "cell_type": "markdown",
   "metadata": {},
   "source": [
    "## 7. Apply upsampling for the minority class that is Fire Type and show the change in Accuracy and Precision. ( 3pts )\n",
    "---"
   ]
  },
  {
   "cell_type": "code",
   "execution_count": 490,
   "metadata": {},
   "outputs": [
    {
     "name": "stdout",
     "output_type": "stream",
     "text": [
      "isFireType\n",
      "False    665\n",
      "True      56\n",
      "Name: isFireType, dtype: int64\n"
     ]
    }
   ],
   "source": [
    "print(df.groupby(['isFireType'])['isFireType'].count())"
   ]
  },
  {
   "cell_type": "code",
   "execution_count": 491,
   "metadata": {},
   "outputs": [
    {
     "data": {
      "text/plain": [
       "True     461\n",
       "False    461\n",
       "Name: isFireType, dtype: int64"
      ]
     },
     "execution_count": 491,
     "metadata": {},
     "output_type": "execute_result"
    }
   ],
   "source": [
    "from sklearn.utils import resample\n",
    "\n",
    "X = df[[\"Attack\", \"Defense\", \"Sp_Atk\", \"Sp_Def\", \"Speed\", \"Weight_kg\", \"Total\", ]]\n",
    "\n",
    "X_train, X_test, Y_train, Y_test = train_test_split(X, \n",
    "                   df[\"isFireType\"], \n",
    "                   test_size=0.3,  \n",
    "                   train_size=0.7,    \n",
    "                   random_state=42)\n",
    "\n",
    "X = pd.concat([X_train, Y_train], axis=1)\n",
    "\n",
    "# separate minority and majority classes\n",
    "not_legendary = X[X.isFireType==False]\n",
    "legendary = X[X.isFireType==True]\n",
    "\n",
    "# upsample minority\n",
    "legendary_upsampled = resample(legendary,\n",
    "                      replace=True, # sample with replacement\n",
    "                      n_samples=len(not_legendary), # match number in majority class\n",
    "                      random_state=42) # reproducible results\n",
    "\n",
    "# combine majority and upsampled minority\n",
    "legendary_upsampled = pd.concat([not_legendary, legendary_upsampled])\n",
    "\n",
    "# check new class counts\n",
    "legendary_upsampled.isFireType.value_counts()"
   ]
  },
  {
   "cell_type": "code",
   "execution_count": 492,
   "metadata": {},
   "outputs": [
    {
     "name": "stdout",
     "output_type": "stream",
     "text": [
      "\n",
      "Accuracy: 76.0369\n",
      "Precision: 15.7895\n",
      "Recall: 69.2308\n",
      "\n"
     ]
    }
   ],
   "source": [
    "Y_train = legendary_upsampled.isFireType\n",
    "X_train = legendary_upsampled.drop('isFireType', axis=1)\n",
    "\n",
    "legendary_upsampled = LogisticRegression(class_weight=\"balanced\", solver=\"liblinear\").fit(X_train, Y_train)\n",
    "upsampled_pred = legendary_upsampled.predict(X_test)\n",
    "\n",
    "print(f'\\nAccuracy: {metrics.accuracy_score(Y_test, upsampled_pred) * 100:.4f}')\n",
    "print(f'Precision: {metrics.precision_score(Y_test, upsampled_pred) * 100:.4f}')\n",
    "print(f'Recall: {metrics.recall_score(Y_test, upsampled_pred) * 100:.4f}\\n')"
   ]
  },
  {
   "cell_type": "code",
   "execution_count": 493,
   "metadata": {},
   "outputs": [
    {
     "data": {
      "text/plain": [
       "Text(0.5, 257.44, 'Predicted label')"
      ]
     },
     "execution_count": 493,
     "metadata": {},
     "output_type": "execute_result"
    },
    {
     "data": {
      "image/png": "[encoded data removed]",
      "text/plain": [
       "<Figure size 432x288 with 2 Axes>"
      ]
     },
     "metadata": {},
     "output_type": "display_data"
    }
   ],
   "source": [
    "from sklearn import metrics\n",
    "cnf_matrix = metrics.confusion_matrix(Y_test, upsampled_pred)\n",
    "cnf_matrix\n",
    "\n",
    "class_names=[\"0\",\"1\"] # name  of classes\n",
    "fig, ax = plt.subplots()\n",
    "tick_marks = np.arange(len(class_names))\n",
    "plt.xticks(tick_marks, class_names)\n",
    "plt.yticks(tick_marks, class_names)\n",
    "# create heatmap\n",
    "sns.heatmap(pd.DataFrame(cnf_matrix), annot=True, cmap=\"YlGnBu\" ,fmt='g')\n",
    "ax.xaxis.set_label_position(\"top\")\n",
    "plt.tight_layout()\n",
    "plt.title('Confusion matrix', y=1.1)\n",
    "plt.ylabel('Actual label')\n",
    "plt.xlabel('Predicted label')"
   ]
  }
 ],
 "metadata": {
  "kernelspec": {
   "display_name": "Python 3",
   "language": "python",
   "name": "python3"
  },
  "language_info": {
   "codemirror_mode": {
    "name": "ipython",
    "version": 3
   },
   "file_extension": ".py",
   "mimetype": "text/x-python",
   "name": "python",
   "nbconvert_exporter": "python",
   "pygments_lexer": "ipython3",
   "version": "3.7.10"
  }
 },
 "nbformat": 4,
 "nbformat_minor": 4
}
